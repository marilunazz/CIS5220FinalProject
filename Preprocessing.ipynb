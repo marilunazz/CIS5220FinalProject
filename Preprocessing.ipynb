{
  "cells": [
    {
      "cell_type": "code",
      "execution_count": null,
      "metadata": {
        "colab": {
          "base_uri": "https://localhost:8080/"
        },
        "id": "MaiIvky40tvP",
        "outputId": "3e9edba2-1314-4be3-c493-8762de823f0e"
      },
      "outputs": [
        {
          "output_type": "stream",
          "name": "stdout",
          "text": [
            "Mounted at /content/drive\n"
          ]
        }
      ],
      "source": [
        "from google.colab import drive\n",
        "drive.mount('/content/drive')\n",
        "# cd '/content/drive/Shared drives/CIS522'"
      ]
    },
    {
      "cell_type": "code",
      "execution_count": null,
      "metadata": {
        "colab": {
          "base_uri": "https://localhost:8080/"
        },
        "id": "_WZ9jfdoLFSX",
        "outputId": "0d3a83cb-8ee0-45a6-8578-9e04f219b36e"
      },
      "outputs": [
        {
          "output_type": "stream",
          "name": "stdout",
          "text": [
            "\u001b[2K     \u001b[90m━━━━━━━━━━━━━━━━━━━━━━━━━━━━━━━━━━━━━━━\u001b[0m \u001b[32m289.9/289.9 kB\u001b[0m \u001b[31m5.1 MB/s\u001b[0m eta \u001b[36m0:00:00\u001b[0m\n",
            "\u001b[2K     \u001b[90m━━━━━━━━━━━━━━━━━━━━━━━━━━━━━━━━━━━━━━━\u001b[0m \u001b[32m103.2/103.2 kB\u001b[0m \u001b[31m4.3 MB/s\u001b[0m eta \u001b[36m0:00:00\u001b[0m\n",
            "\u001b[?25h"
          ]
        },
        {
          "output_type": "stream",
          "name": "stderr",
          "text": [
            "[nltk_data] Downloading package punkt to /root/nltk_data...\n",
            "[nltk_data]   Unzipping tokenizers/punkt.zip.\n"
          ]
        },
        {
          "output_type": "execute_result",
          "data": {
            "text/plain": [
              "True"
            ]
          },
          "metadata": {},
          "execution_count": 1
        }
      ],
      "source": [
        "!pip install -q contractions\n",
        "\n",
        "import pandas as pd \n",
        "import nltk\n",
        "import re\n",
        "import matplotlib.pyplot as plt\n",
        "import contractions\n",
        "\n",
        "\n",
        "nltk.download('punkt')"
      ]
    },
    {
      "cell_type": "markdown",
      "metadata": {
        "id": "Q72DyvZNVy6D"
      },
      "source": [
        "### Downloading Dataset"
      ]
    },
    {
      "cell_type": "code",
      "execution_count": null,
      "metadata": {
        "id": "acLZ821F_qEB"
      },
      "outputs": [],
      "source": [
        "# from google.colab import files\n",
        "\n",
        "# # TODO: UPLOAD kaggle.json file - download it frm kaggle.com if you dont have\n",
        "# files.upload() #this will prompt you to upload the kaggle.json\n",
        "\n",
        "\n",
        "# !ls -lha kaggle.json\n",
        "# !pip install -q kaggle"
      ]
    },
    {
      "cell_type": "code",
      "execution_count": null,
      "metadata": {
        "id": "UAYyuyxfAJL9"
      },
      "outputs": [],
      "source": [
        "# !mkdir -p ~/.kaggle\n",
        "# !cp kaggle.json ~/.kaggle/\n",
        "\n",
        "# # we need to set permissions\n",
        "# !chmod 600 /root/.kaggle/kaggle.json\n",
        "\n",
        "# # check your directory before downloading the datasets\n",
        "# !pwd\n",
        "\n",
        "# # list all available datasets\n",
        "# !kaggle datasets list -s stackoverflow\n",
        "\n",
        "# !kaggle datasets download -d michaelfumery/stackoverflow-questions-filtered-2011-2021"
      ]
    },
    {
      "cell_type": "markdown",
      "metadata": {
        "id": "SaoIqrKtV15N"
      },
      "source": [
        "#### Loading in Dataset - combines 2009-2020"
      ]
    },
    {
      "cell_type": "markdown",
      "metadata": {
        "id": "926oDWyOVuHB"
      },
      "source": [
        "### Preprocessing\n",
        "\n",
        "1) Creation date to datetime\n",
        "2) Separate Tags \n",
        "\n",
        "3) Make text lowercase \n",
        "4) Remove punctuation\n",
        "5) Remove tags + extract url\n",
        "6) Remove stop words\n",
        "7) Encode the text\n",
        "\n",
        "8) Remove links/hyperlinks?\n",
        "9) Remove html tags?\n",
        "10) Remove whitespace\n",
        "11) Remove consecutive '\\n's\n",
        "\n",
        "\n",
        "Feature engineering: \n",
        "12) Add post length\n",
        "\n",
        "x) Tokenize the text\n",
        "\n",
        "\n",
        "TODO / QUESTIONS?\n",
        "* What type of puncutation should we remove?\n",
        "* How to deal with URLs in post? If a post has same URL link that's a good thing. Also if a URL is another Stackoverflow post, what to do?\n",
        "* How to deal with coding syntax?"
      ]
    },
    {
      "cell_type": "code",
      "execution_count": null,
      "metadata": {
        "colab": {
          "base_uri": "https://localhost:8080/"
        },
        "id": "8IbsjknnGOOR",
        "outputId": "a81508ee-85c2-4d77-98de-ace94f69ffe4"
      },
      "outputs": [
        {
          "output_type": "execute_result",
          "data": {
            "text/plain": [
              "(101611, 9)"
            ]
          },
          "metadata": {},
          "execution_count": 4
        }
      ],
      "source": [
        "years = [i for i in range(2009, 2020)]\n",
        "\n",
        "\n",
        "for year in years: \n",
        "  path = (\"/content/drive/Shareddrives/CIS522/stackoverflow-questions-filtered-2011-2021/StackOverflow_questions_%d.csv\" % year)\n",
        "  if year == 2009:\n",
        "    df = pd.read_csv(path)\n",
        "  else: \n",
        "    df_new = pd.read_csv(path)\n",
        "    df = pd.concat([df, df_new])\n",
        "\n",
        "df.shape"
      ]
    },
    {
      "cell_type": "code",
      "execution_count": null,
      "metadata": {
        "colab": {
          "base_uri": "https://localhost:8080/",
          "height": 458
        },
        "id": "VqFkkIOLhjwo",
        "outputId": "8577a181-0073-4659-8d61-202d64413d90"
      },
      "outputs": [
        {
          "output_type": "execute_result",
          "data": {
            "text/plain": [
              "       Id         CreationDate  \\\n",
              "0  414336  2009-01-05 20:09:49   \n",
              "1  414605  2009-01-05 21:33:21   \n",
              "2  414714  2009-01-05 22:21:04   \n",
              "3  415452  2009-01-06 04:26:16   \n",
              "4  415515  2009-01-06 04:55:55   \n",
              "\n",
              "                                               Title  \\\n",
              "0  Why does the SqlServer optimizer get so confus...   \n",
              "1                Fluent interface for rendering HTML   \n",
              "2            Compiling with g++ using multiple cores   \n",
              "3                            Object-orientation in C   \n",
              "4  How can I read and manipulate CSV file data in...   \n",
              "\n",
              "                                                Body  \\\n",
              "0  <p>I know this has something to do with parame...   \n",
              "1  <p>Rendering HTML with the HtmlTextWriter isn'...   \n",
              "2  <p>Quick question: what is the compiler flag t...   \n",
              "3  <p>What would be a set of nifty preprocessor h...   \n",
              "4  <p>Pretty self-explanatory, I tried google and...   \n",
              "\n",
              "                                                Tags  ViewCount  CommentCount  \\\n",
              "0                    <sql><sql-server><optimization>       3368             6   \n",
              "1  <.net><html><render><web-controls><htmltextwri...       4557             7   \n",
              "2  <c++><compiler-construction><makefile><g++><mu...     159848             7   \n",
              "3                                   <c><oop><object>      82624             6   \n",
              "4                                         <c++><csv>     147860             7   \n",
              "\n",
              "   AnswerCount  Score  \n",
              "0            9      7  \n",
              "1            4     10  \n",
              "2            8    181  \n",
              "3           23    161  \n",
              "4            9     51  "
            ],
            "text/html": [
              "\n",
              "  <div id=\"df-a60a9f26-d28b-40c0-b423-466e566d42dd\">\n",
              "    <div class=\"colab-df-container\">\n",
              "      <div>\n",
              "<style scoped>\n",
              "    .dataframe tbody tr th:only-of-type {\n",
              "        vertical-align: middle;\n",
              "    }\n",
              "\n",
              "    .dataframe tbody tr th {\n",
              "        vertical-align: top;\n",
              "    }\n",
              "\n",
              "    .dataframe thead th {\n",
              "        text-align: right;\n",
              "    }\n",
              "</style>\n",
              "<table border=\"1\" class=\"dataframe\">\n",
              "  <thead>\n",
              "    <tr style=\"text-align: right;\">\n",
              "      <th></th>\n",
              "      <th>Id</th>\n",
              "      <th>CreationDate</th>\n",
              "      <th>Title</th>\n",
              "      <th>Body</th>\n",
              "      <th>Tags</th>\n",
              "      <th>ViewCount</th>\n",
              "      <th>CommentCount</th>\n",
              "      <th>AnswerCount</th>\n",
              "      <th>Score</th>\n",
              "    </tr>\n",
              "  </thead>\n",
              "  <tbody>\n",
              "    <tr>\n",
              "      <th>0</th>\n",
              "      <td>414336</td>\n",
              "      <td>2009-01-05 20:09:49</td>\n",
              "      <td>Why does the SqlServer optimizer get so confus...</td>\n",
              "      <td>&lt;p&gt;I know this has something to do with parame...</td>\n",
              "      <td>&lt;sql&gt;&lt;sql-server&gt;&lt;optimization&gt;</td>\n",
              "      <td>3368</td>\n",
              "      <td>6</td>\n",
              "      <td>9</td>\n",
              "      <td>7</td>\n",
              "    </tr>\n",
              "    <tr>\n",
              "      <th>1</th>\n",
              "      <td>414605</td>\n",
              "      <td>2009-01-05 21:33:21</td>\n",
              "      <td>Fluent interface for rendering HTML</td>\n",
              "      <td>&lt;p&gt;Rendering HTML with the HtmlTextWriter isn'...</td>\n",
              "      <td>&lt;.net&gt;&lt;html&gt;&lt;render&gt;&lt;web-controls&gt;&lt;htmltextwri...</td>\n",
              "      <td>4557</td>\n",
              "      <td>7</td>\n",
              "      <td>4</td>\n",
              "      <td>10</td>\n",
              "    </tr>\n",
              "    <tr>\n",
              "      <th>2</th>\n",
              "      <td>414714</td>\n",
              "      <td>2009-01-05 22:21:04</td>\n",
              "      <td>Compiling with g++ using multiple cores</td>\n",
              "      <td>&lt;p&gt;Quick question: what is the compiler flag t...</td>\n",
              "      <td>&lt;c++&gt;&lt;compiler-construction&gt;&lt;makefile&gt;&lt;g++&gt;&lt;mu...</td>\n",
              "      <td>159848</td>\n",
              "      <td>7</td>\n",
              "      <td>8</td>\n",
              "      <td>181</td>\n",
              "    </tr>\n",
              "    <tr>\n",
              "      <th>3</th>\n",
              "      <td>415452</td>\n",
              "      <td>2009-01-06 04:26:16</td>\n",
              "      <td>Object-orientation in C</td>\n",
              "      <td>&lt;p&gt;What would be a set of nifty preprocessor h...</td>\n",
              "      <td>&lt;c&gt;&lt;oop&gt;&lt;object&gt;</td>\n",
              "      <td>82624</td>\n",
              "      <td>6</td>\n",
              "      <td>23</td>\n",
              "      <td>161</td>\n",
              "    </tr>\n",
              "    <tr>\n",
              "      <th>4</th>\n",
              "      <td>415515</td>\n",
              "      <td>2009-01-06 04:55:55</td>\n",
              "      <td>How can I read and manipulate CSV file data in...</td>\n",
              "      <td>&lt;p&gt;Pretty self-explanatory, I tried google and...</td>\n",
              "      <td>&lt;c++&gt;&lt;csv&gt;</td>\n",
              "      <td>147860</td>\n",
              "      <td>7</td>\n",
              "      <td>9</td>\n",
              "      <td>51</td>\n",
              "    </tr>\n",
              "  </tbody>\n",
              "</table>\n",
              "</div>\n",
              "      <button class=\"colab-df-convert\" onclick=\"convertToInteractive('df-a60a9f26-d28b-40c0-b423-466e566d42dd')\"\n",
              "              title=\"Convert this dataframe to an interactive table.\"\n",
              "              style=\"display:none;\">\n",
              "        \n",
              "  <svg xmlns=\"http://www.w3.org/2000/svg\" height=\"24px\"viewBox=\"0 0 24 24\"\n",
              "       width=\"24px\">\n",
              "    <path d=\"M0 0h24v24H0V0z\" fill=\"none\"/>\n",
              "    <path d=\"M18.56 5.44l.94 2.06.94-2.06 2.06-.94-2.06-.94-.94-2.06-.94 2.06-2.06.94zm-11 1L8.5 8.5l.94-2.06 2.06-.94-2.06-.94L8.5 2.5l-.94 2.06-2.06.94zm10 10l.94 2.06.94-2.06 2.06-.94-2.06-.94-.94-2.06-.94 2.06-2.06.94z\"/><path d=\"M17.41 7.96l-1.37-1.37c-.4-.4-.92-.59-1.43-.59-.52 0-1.04.2-1.43.59L10.3 9.45l-7.72 7.72c-.78.78-.78 2.05 0 2.83L4 21.41c.39.39.9.59 1.41.59.51 0 1.02-.2 1.41-.59l7.78-7.78 2.81-2.81c.8-.78.8-2.07 0-2.86zM5.41 20L4 18.59l7.72-7.72 1.47 1.35L5.41 20z\"/>\n",
              "  </svg>\n",
              "      </button>\n",
              "      \n",
              "  <style>\n",
              "    .colab-df-container {\n",
              "      display:flex;\n",
              "      flex-wrap:wrap;\n",
              "      gap: 12px;\n",
              "    }\n",
              "\n",
              "    .colab-df-convert {\n",
              "      background-color: #E8F0FE;\n",
              "      border: none;\n",
              "      border-radius: 50%;\n",
              "      cursor: pointer;\n",
              "      display: none;\n",
              "      fill: #1967D2;\n",
              "      height: 32px;\n",
              "      padding: 0 0 0 0;\n",
              "      width: 32px;\n",
              "    }\n",
              "\n",
              "    .colab-df-convert:hover {\n",
              "      background-color: #E2EBFA;\n",
              "      box-shadow: 0px 1px 2px rgba(60, 64, 67, 0.3), 0px 1px 3px 1px rgba(60, 64, 67, 0.15);\n",
              "      fill: #174EA6;\n",
              "    }\n",
              "\n",
              "    [theme=dark] .colab-df-convert {\n",
              "      background-color: #3B4455;\n",
              "      fill: #D2E3FC;\n",
              "    }\n",
              "\n",
              "    [theme=dark] .colab-df-convert:hover {\n",
              "      background-color: #434B5C;\n",
              "      box-shadow: 0px 1px 3px 1px rgba(0, 0, 0, 0.15);\n",
              "      filter: drop-shadow(0px 1px 2px rgba(0, 0, 0, 0.3));\n",
              "      fill: #FFFFFF;\n",
              "    }\n",
              "  </style>\n",
              "\n",
              "      <script>\n",
              "        const buttonEl =\n",
              "          document.querySelector('#df-a60a9f26-d28b-40c0-b423-466e566d42dd button.colab-df-convert');\n",
              "        buttonEl.style.display =\n",
              "          google.colab.kernel.accessAllowed ? 'block' : 'none';\n",
              "\n",
              "        async function convertToInteractive(key) {\n",
              "          const element = document.querySelector('#df-a60a9f26-d28b-40c0-b423-466e566d42dd');\n",
              "          const dataTable =\n",
              "            await google.colab.kernel.invokeFunction('convertToInteractive',\n",
              "                                                     [key], {});\n",
              "          if (!dataTable) return;\n",
              "\n",
              "          const docLinkHtml = 'Like what you see? Visit the ' +\n",
              "            '<a target=\"_blank\" href=https://colab.research.google.com/notebooks/data_table.ipynb>data table notebook</a>'\n",
              "            + ' to learn more about interactive tables.';\n",
              "          element.innerHTML = '';\n",
              "          dataTable['output_type'] = 'display_data';\n",
              "          await google.colab.output.renderOutput(dataTable, element);\n",
              "          const docLink = document.createElement('div');\n",
              "          docLink.innerHTML = docLinkHtml;\n",
              "          element.appendChild(docLink);\n",
              "        }\n",
              "      </script>\n",
              "    </div>\n",
              "  </div>\n",
              "  "
            ]
          },
          "metadata": {},
          "execution_count": 5
        }
      ],
      "source": [
        "df.head()"
      ]
    },
    {
      "cell_type": "code",
      "execution_count": null,
      "metadata": {
        "colab": {
          "base_uri": "https://localhost:8080/"
        },
        "id": "T8bSLJNbbwNj",
        "outputId": "b6ce9f46-09d3-4594-cb2f-8e7014e04a46"
      },
      "outputs": [
        {
          "output_type": "stream",
          "name": "stdout",
          "text": [
            "number of posts: 101611\n"
          ]
        }
      ],
      "source": [
        "num_posts = df.shape[0]\n",
        "\n",
        "print(\"number of posts: %d\" % num_posts)"
      ]
    },
    {
      "cell_type": "markdown",
      "metadata": {
        "id": "V3i-zr8Ua5TN"
      },
      "source": [
        "####1) Change to creation date to datetime"
      ]
    },
    {
      "cell_type": "code",
      "execution_count": null,
      "metadata": {
        "id": "LPPJSYKLVt7B"
      },
      "outputs": [],
      "source": [
        "# 1\n",
        "df['CreationDate'] = pd.to_datetime(df['CreationDate'])"
      ]
    },
    {
      "cell_type": "code",
      "execution_count": null,
      "metadata": {
        "colab": {
          "base_uri": "https://localhost:8080/",
          "height": 243
        },
        "id": "eJeIEz1rhu7d",
        "outputId": "fdc8c946-278f-4a25-ed08-0870a3035594"
      },
      "outputs": [
        {
          "output_type": "execute_result",
          "data": {
            "text/plain": [
              "       Id        CreationDate  \\\n",
              "0  414336 2009-01-05 20:09:49   \n",
              "1  414605 2009-01-05 21:33:21   \n",
              "\n",
              "                                               Title  \\\n",
              "0  Why does the SqlServer optimizer get so confus...   \n",
              "1                Fluent interface for rendering HTML   \n",
              "\n",
              "                                                Body  \\\n",
              "0  <p>I know this has something to do with parame...   \n",
              "1  <p>Rendering HTML with the HtmlTextWriter isn'...   \n",
              "\n",
              "                                                Tags  ViewCount  CommentCount  \\\n",
              "0                    <sql><sql-server><optimization>       3368             6   \n",
              "1  <.net><html><render><web-controls><htmltextwri...       4557             7   \n",
              "\n",
              "   AnswerCount  Score  \n",
              "0            9      7  \n",
              "1            4     10  "
            ],
            "text/html": [
              "\n",
              "  <div id=\"df-21388451-92a2-4a17-be3e-d6cd2a0104e8\">\n",
              "    <div class=\"colab-df-container\">\n",
              "      <div>\n",
              "<style scoped>\n",
              "    .dataframe tbody tr th:only-of-type {\n",
              "        vertical-align: middle;\n",
              "    }\n",
              "\n",
              "    .dataframe tbody tr th {\n",
              "        vertical-align: top;\n",
              "    }\n",
              "\n",
              "    .dataframe thead th {\n",
              "        text-align: right;\n",
              "    }\n",
              "</style>\n",
              "<table border=\"1\" class=\"dataframe\">\n",
              "  <thead>\n",
              "    <tr style=\"text-align: right;\">\n",
              "      <th></th>\n",
              "      <th>Id</th>\n",
              "      <th>CreationDate</th>\n",
              "      <th>Title</th>\n",
              "      <th>Body</th>\n",
              "      <th>Tags</th>\n",
              "      <th>ViewCount</th>\n",
              "      <th>CommentCount</th>\n",
              "      <th>AnswerCount</th>\n",
              "      <th>Score</th>\n",
              "    </tr>\n",
              "  </thead>\n",
              "  <tbody>\n",
              "    <tr>\n",
              "      <th>0</th>\n",
              "      <td>414336</td>\n",
              "      <td>2009-01-05 20:09:49</td>\n",
              "      <td>Why does the SqlServer optimizer get so confus...</td>\n",
              "      <td>&lt;p&gt;I know this has something to do with parame...</td>\n",
              "      <td>&lt;sql&gt;&lt;sql-server&gt;&lt;optimization&gt;</td>\n",
              "      <td>3368</td>\n",
              "      <td>6</td>\n",
              "      <td>9</td>\n",
              "      <td>7</td>\n",
              "    </tr>\n",
              "    <tr>\n",
              "      <th>1</th>\n",
              "      <td>414605</td>\n",
              "      <td>2009-01-05 21:33:21</td>\n",
              "      <td>Fluent interface for rendering HTML</td>\n",
              "      <td>&lt;p&gt;Rendering HTML with the HtmlTextWriter isn'...</td>\n",
              "      <td>&lt;.net&gt;&lt;html&gt;&lt;render&gt;&lt;web-controls&gt;&lt;htmltextwri...</td>\n",
              "      <td>4557</td>\n",
              "      <td>7</td>\n",
              "      <td>4</td>\n",
              "      <td>10</td>\n",
              "    </tr>\n",
              "  </tbody>\n",
              "</table>\n",
              "</div>\n",
              "      <button class=\"colab-df-convert\" onclick=\"convertToInteractive('df-21388451-92a2-4a17-be3e-d6cd2a0104e8')\"\n",
              "              title=\"Convert this dataframe to an interactive table.\"\n",
              "              style=\"display:none;\">\n",
              "        \n",
              "  <svg xmlns=\"http://www.w3.org/2000/svg\" height=\"24px\"viewBox=\"0 0 24 24\"\n",
              "       width=\"24px\">\n",
              "    <path d=\"M0 0h24v24H0V0z\" fill=\"none\"/>\n",
              "    <path d=\"M18.56 5.44l.94 2.06.94-2.06 2.06-.94-2.06-.94-.94-2.06-.94 2.06-2.06.94zm-11 1L8.5 8.5l.94-2.06 2.06-.94-2.06-.94L8.5 2.5l-.94 2.06-2.06.94zm10 10l.94 2.06.94-2.06 2.06-.94-2.06-.94-.94-2.06-.94 2.06-2.06.94z\"/><path d=\"M17.41 7.96l-1.37-1.37c-.4-.4-.92-.59-1.43-.59-.52 0-1.04.2-1.43.59L10.3 9.45l-7.72 7.72c-.78.78-.78 2.05 0 2.83L4 21.41c.39.39.9.59 1.41.59.51 0 1.02-.2 1.41-.59l7.78-7.78 2.81-2.81c.8-.78.8-2.07 0-2.86zM5.41 20L4 18.59l7.72-7.72 1.47 1.35L5.41 20z\"/>\n",
              "  </svg>\n",
              "      </button>\n",
              "      \n",
              "  <style>\n",
              "    .colab-df-container {\n",
              "      display:flex;\n",
              "      flex-wrap:wrap;\n",
              "      gap: 12px;\n",
              "    }\n",
              "\n",
              "    .colab-df-convert {\n",
              "      background-color: #E8F0FE;\n",
              "      border: none;\n",
              "      border-radius: 50%;\n",
              "      cursor: pointer;\n",
              "      display: none;\n",
              "      fill: #1967D2;\n",
              "      height: 32px;\n",
              "      padding: 0 0 0 0;\n",
              "      width: 32px;\n",
              "    }\n",
              "\n",
              "    .colab-df-convert:hover {\n",
              "      background-color: #E2EBFA;\n",
              "      box-shadow: 0px 1px 2px rgba(60, 64, 67, 0.3), 0px 1px 3px 1px rgba(60, 64, 67, 0.15);\n",
              "      fill: #174EA6;\n",
              "    }\n",
              "\n",
              "    [theme=dark] .colab-df-convert {\n",
              "      background-color: #3B4455;\n",
              "      fill: #D2E3FC;\n",
              "    }\n",
              "\n",
              "    [theme=dark] .colab-df-convert:hover {\n",
              "      background-color: #434B5C;\n",
              "      box-shadow: 0px 1px 3px 1px rgba(0, 0, 0, 0.15);\n",
              "      filter: drop-shadow(0px 1px 2px rgba(0, 0, 0, 0.3));\n",
              "      fill: #FFFFFF;\n",
              "    }\n",
              "  </style>\n",
              "\n",
              "      <script>\n",
              "        const buttonEl =\n",
              "          document.querySelector('#df-21388451-92a2-4a17-be3e-d6cd2a0104e8 button.colab-df-convert');\n",
              "        buttonEl.style.display =\n",
              "          google.colab.kernel.accessAllowed ? 'block' : 'none';\n",
              "\n",
              "        async function convertToInteractive(key) {\n",
              "          const element = document.querySelector('#df-21388451-92a2-4a17-be3e-d6cd2a0104e8');\n",
              "          const dataTable =\n",
              "            await google.colab.kernel.invokeFunction('convertToInteractive',\n",
              "                                                     [key], {});\n",
              "          if (!dataTable) return;\n",
              "\n",
              "          const docLinkHtml = 'Like what you see? Visit the ' +\n",
              "            '<a target=\"_blank\" href=https://colab.research.google.com/notebooks/data_table.ipynb>data table notebook</a>'\n",
              "            + ' to learn more about interactive tables.';\n",
              "          element.innerHTML = '';\n",
              "          dataTable['output_type'] = 'display_data';\n",
              "          await google.colab.output.renderOutput(dataTable, element);\n",
              "          const docLink = document.createElement('div');\n",
              "          docLink.innerHTML = docLinkHtml;\n",
              "          element.appendChild(docLink);\n",
              "        }\n",
              "      </script>\n",
              "    </div>\n",
              "  </div>\n",
              "  "
            ]
          },
          "metadata": {},
          "execution_count": 8
        }
      ],
      "source": [
        "df.head(2)"
      ]
    },
    {
      "cell_type": "markdown",
      "metadata": {
        "id": "f65VYXHPa-nV"
      },
      "source": [
        "####2) Parse tags "
      ]
    },
    {
      "cell_type": "code",
      "execution_count": null,
      "metadata": {
        "id": "aFZAWH5pWacS"
      },
      "outputs": [],
      "source": [
        "# 2\n",
        "df['Tags'] = df['Tags'].apply(lambda tags_str: [tag.split(\">\")[0] for tag in tags_str.split(\"<\")[1:]])"
      ]
    },
    {
      "cell_type": "markdown",
      "metadata": {
        "id": "ZuFfo3ljbCIV"
      },
      "source": [
        "#### 3) Change body and title to lowercase "
      ]
    },
    {
      "cell_type": "code",
      "execution_count": null,
      "metadata": {
        "id": "D6JCGVIasCbx"
      },
      "outputs": [],
      "source": [
        "# 3\n",
        "df['Title'] = df['Title'].str.lower()\n",
        "df['Body'] = df['Body'].str.lower()"
      ]
    },
    {
      "cell_type": "markdown",
      "metadata": {
        "id": "lUlcX-n-g15q"
      },
      "source": [
        "#### 3) Remove contractions"
      ]
    },
    {
      "cell_type": "code",
      "execution_count": null,
      "metadata": {
        "id": "GWh4QuZqgl5Z"
      },
      "outputs": [],
      "source": [
        "def expand_contractions(text):\n",
        "    text = contractions.fix(text)\n",
        "    return text\n"
      ]
    },
    {
      "cell_type": "code",
      "execution_count": null,
      "metadata": {
        "id": "qLmcDoY1g_k6"
      },
      "outputs": [],
      "source": [
        "df['Title'] = df['Title'].apply(lambda x: expand_contractions(x)) \n",
        "df['Body'] = df['Body'].apply(lambda x: expand_contractions(x))"
      ]
    },
    {
      "cell_type": "markdown",
      "metadata": {
        "id": "_KfAHsF9bFWD"
      },
      "source": [
        "#### 4) Remove puncutation "
      ]
    },
    {
      "cell_type": "code",
      "execution_count": null,
      "metadata": {
        "colab": {
          "base_uri": "https://localhost:8080/"
        },
        "id": "9I62APuosPbl",
        "outputId": "f8d3a5c1-a628-4d91-9182-e6c4812d830b"
      },
      "outputs": [
        {
          "output_type": "execute_result",
          "data": {
            "text/plain": [
              "0       why does the sqlserver optimizer get so confus...\n",
              "1                     fluent interface for rendering html\n",
              "2                 compiling with g++ using multiple cores\n",
              "3                                 object-orientation in c\n",
              "4       how can i read and manipulate csv file data in...\n",
              "                              ...                        \n",
              "3408    how to use npm package as normal javascript in...\n",
              "3409    warning:tensorflow:sample_weight modes were co...\n",
              "3410           trouble with cors policy and .net core 3.1\n",
              "3411    how to abort only function on error, but do no...\n",
              "3412                 file upload using foreach in laravel\n",
              "Name: Title, Length: 101611, dtype: object"
            ]
          },
          "metadata": {},
          "execution_count": 13
        }
      ],
      "source": [
        "# 4 - punc\n",
        "df['Title']"
      ]
    },
    {
      "cell_type": "code",
      "execution_count": null,
      "metadata": {
        "colab": {
          "base_uri": "https://localhost:8080/"
        },
        "id": "I2HUr58ebIEz",
        "outputId": "2838016b-2908-42ef-8543-7df2e5cc1355"
      },
      "outputs": [
        {
          "output_type": "execute_result",
          "data": {
            "text/plain": [
              "Index(['Id', 'CreationDate', 'Title', 'Body', 'Tags', 'ViewCount',\n",
              "       'CommentCount', 'AnswerCount', 'Score'],\n",
              "      dtype='object')"
            ]
          },
          "metadata": {},
          "execution_count": 14
        }
      ],
      "source": [
        "df.columns"
      ]
    },
    {
      "cell_type": "markdown",
      "metadata": {
        "id": "nzbu6LcBv7cv"
      },
      "source": [
        "#### 5) remove html tags and extract URLs\n"
      ]
    },
    {
      "cell_type": "code",
      "execution_count": null,
      "metadata": {
        "id": "STxN29Y_vuRM",
        "colab": {
          "base_uri": "https://localhost:8080/"
        },
        "outputId": "4009d16b-0040-4da6-9179-a86482b15127"
      },
      "outputs": [
        {
          "output_type": "execute_result",
          "data": {
            "text/plain": [
              "0       [https://stackoverflow.com/questions/379007/kn...\n",
              "1                                                      []\n",
              "2                                                      []\n",
              "3       [http://www.planetpdf.com/codecuts/pdfs/ooc.pd...\n",
              "4                                                      []\n",
              "                              ...                        \n",
              "3408    [https://github.com/niklasvh/html2canvas/relea...\n",
              "3409    [https://github.com/tensorflow/tensorflow/blob...\n",
              "3410    [https://localhost:8082/api/auth/', http://loc...\n",
              "3411                                                   []\n",
              "3412                                                   []\n",
              "Name: urls, Length: 101611, dtype: object"
            ]
          },
          "metadata": {},
          "execution_count": 15
        }
      ],
      "source": [
        "url_pattern = r'http[s]?://(?:[a-zA-Z]|[0-9]|[$-_@.&+]|[!*\\(\\),]|(?:%[0-9a-fA-F][0-9a-fA-F]))+'\n",
        "href_pattern = r'<a href=\"([^\"]+)\">([^<]+)<\\/a>'\n",
        "p_pattern = r'<\\/?p[^>]*>'\n",
        "\n",
        "\n",
        "# extract urls\n",
        "df['urls'] = df['Body'].apply(lambda x: re.findall(url_pattern, x)) \n",
        "\n",
        "# remove href tags + url \n",
        "df['Clean Body'] = df['Body'].apply(lambda text: re.sub(href_pattern, '', text))\n",
        "\n",
        "# remove paragraph tags (<p>)\n",
        "df['Clean Body'] = df['Clean Body'].apply(lambda text: re.sub(p_pattern, '', text))\n",
        "\n",
        "df.head(10)\n",
        "\n",
        "df['urls']"
      ]
    },
    {
      "cell_type": "code",
      "execution_count": null,
      "metadata": {
        "id": "O7kLihDqX-UR"
      },
      "outputs": [],
      "source": [
        "def show_clean_body(num_i):\n",
        "  for i, x in enumerate(df['Clean Body']):\n",
        "    if i == num_i:\n",
        "      break\n",
        "    print(i, x)"
      ]
    },
    {
      "cell_type": "markdown",
      "metadata": {
        "id": "0PRmsKlG7pgN"
      },
      "source": [
        "#### 6) Clean whitespace and new lines"
      ]
    },
    {
      "cell_type": "code",
      "execution_count": null,
      "metadata": {
        "id": "6FVR10I47sJO"
      },
      "outputs": [],
      "source": [
        "df['Clean Body'] = df['Clean Body'].apply(lambda text: text.replace(\"\\n\", \" \"))"
      ]
    },
    {
      "cell_type": "markdown",
      "metadata": {
        "id": "ZBKsDpOJdtxt"
      },
      "source": [
        "####7) Remove code snippets in Body"
      ]
    },
    {
      "cell_type": "code",
      "execution_count": null,
      "metadata": {
        "id": "XqIL8sXFfdV6"
      },
      "outputs": [],
      "source": [
        "df['Clean Body'] = df['Clean Body'].apply(lambda text: re.sub('<.*?>', '', text))"
      ]
    },
    {
      "cell_type": "code",
      "execution_count": null,
      "metadata": {
        "colab": {
          "base_uri": "https://localhost:8080/"
        },
        "id": "UpJQnoLTeL9S",
        "outputId": "7f7a68de-08c9-4d2d-c75e-5c66a1a4f73a"
      },
      "outputs": [
        {
          "output_type": "stream",
          "name": "stdout",
          "text": [
            "0 i know this has something to do with parameter sniffing, but i am just perplexed at how something like the following example is even possible with a piece of technology that does so many complex things well.  many of us have run into stored procedures that intermittently run several of orders of magnitude slower than usual, and then if you copy out the sql from the procedure and use the same parameter values in a separate query window, it runs as fast as usual.  i just fixed a procedure like that by converting this:  alter procedure p_myproc (     @param1 int ) as -- do a complex query with @param1   to this:  alter procedure p_myproc (     @param1 int ) as  declare @param1copy int; set @param1copy = @param1;  -- do the query using @param1copy   it went from running in over a minute back down to under one second, like it usually runs.  this behavior seems totally random.  for 9 out of 10 @param1 inputs, the query is fast, regardless of how much data it ends up needing to crunch, or how big the result set it.  but for that 1 out of 10, it just gets lost.  and the fix is to replace an int with the same int in the query?  it makes no sense.  [edit]  @gbn linked to this question, which details a similar problem:    i hesitate to cry \"bug!\" because that is so often a cop-out, but this really does seem like a bug to me.  when i run the two versions of my stored procedure with the same input, i see identical query plans.  the only difference is that the original takes more than a minute to run, and the version with the goofy parameter copying runs instantly. \n",
            "1 rendering html with the htmltextwriter is not incredibly intuitive in my opinion, but if you are implementing web controls in web forms it is what you have to work with. i thought that it might be possible to create a fluent interface for this that reads a bit more like the html it outputs. i would like to know what people think of the syntax that i have come up with so far.      public void render(htmltextwriter writer)     {         writer             .tag(htmltextwritertag.div, e =&gt; e[htmltextwriterattribute.id, \"id\"][htmltextwriterattribute.name,\"name\"][htmltextwriterattribute.class,\"class\"])                 .tag(htmltextwritertag.span)                     .text(\"lorem\")                 .endtag()                 .tag(htmltextwritertag.span)                     .text(\"ipsum\")                 .endtag()             .endtag();             }   \"tag\", \"text\" and \"endtag\" are extension methods for the htmltextwriter class that returns the instance it takes in so that calls can be chained. the argument passed to the lambda used in the overload used by the first call to \"tag\" is a \"htmlattributemanager\", which is simple class that wraps an htmltextwriter to provide an indexer that takes an htmltextwriterattribute and a string value and returns the instance so that calls can be chained. i also have methods on this class for the most common attributes, such as \"name\", \"class\" and \"id\" so that you could write the first call above as follows:  .tag(htmltextwritertag.div, e =&gt; e.id(\"id\").name(\"name\").class(\"class\"))   a little longer example:  public void render(htmltextwriter writer) {     writer         .tag(htmltextwritertag.div, a =&gt; a.class(\"someclass\", \"someotherclass\"))             .tag(htmltextwritertag.h1).text(\"lorem\").endtag()             .tag(htmltextwritertag.select, t =&gt; t.id(\"fooselect\").name(\"fooselect\").class(\"selectclass\"))                 .tag(htmltextwritertag.option, t =&gt; t[htmltextwriterattribute.value, \"1\"][htmltextwriterattribute.title, \"selects the number 1.\"])                     .text(\"1\")                 .endtag(htmltextwritertag.option)                 .tag(htmltextwritertag.option, t =&gt; t[htmltextwriterattribute.value, \"2\"][htmltextwriterattribute.title, \"selects the number 2.\"])                     .text(\"2\")                 .endtag(htmltextwritertag.option)                 .tag(htmltextwritertag.option, t =&gt; t[htmltextwriterattribute.value, \"3\"][htmltextwriterattribute.title, \"selects the number 3.\"])                     .text(\"3\")                 .endtag(htmltextwritertag.option)             .endtag(htmltextwritertag.select)         .endtag(htmltextwritertag.div); }   hopefully you will be able to \"decipher\" what html this snippet outputs, at least that is the idea.  please give me any thoughts on how the syntax can be improved upon, maybe better method names, maybe some other approach all together.  edit: i thought it might be interesting to see what the same snippet would look like without the use of the fluent interface, for comparison:  public void renderusinghtmltextwriterstandardmethods(htmltextwriter writer) {     writer.addattribute(htmltextwriterattribute.class, \"someclass someotherclass\");     writer.renderbegintag(htmltextwritertag.div);      writer.renderbegintag(htmltextwritertag.h1);     writer.write(\"lorem\");     writer.renderendtag();      writer.addattribute(htmltextwriterattribute.id, \"fooselect\");     writer.addattribute(htmltextwriterattribute.name, \"fooselect\");     writer.addattribute(htmltextwriterattribute.class, \"selectclass\");     writer.renderbegintag(htmltextwritertag.select);      writer.addattribute(htmltextwriterattribute.value, \"1\");     writer.addattribute(htmltextwriterattribute.title, \"selects the number 1.\");     writer.renderbegintag(htmltextwritertag.option);     writer.write(\"1\");     writer.renderendtag();      writer.addattribute(htmltextwriterattribute.value, \"2\");     writer.addattribute(htmltextwriterattribute.title, \"selects the number 2.\");     writer.renderbegintag(htmltextwritertag.option);     writer.write(\"2\");     writer.renderendtag();      writer.addattribute(htmltextwriterattribute.value, \"3\");     writer.addattribute(htmltextwriterattribute.title, \"selects the number 3.\");     writer.renderbegintag(htmltextwritertag.option);     writer.write(\"3\");     writer.renderendtag();      writer.renderendtag();      writer.renderendtag(); }   edit: i should probably be a little more explicit in that one of the goals with this is that it should incur as little overhead as possible, this is why i have limited the use of lambdas. also at first i used a class that represented a tag so that something similar to a dom-tree was built by the syntax before the rendering, the syntax was very similar though. i abandoned this solution for the slight memory overhead it incurs. there are still some of this present in the use of the htmlattributemanager class, i have been thinking about using extension methods for the appending of attributes also, but the i cannot use the indexer-syntax, also it bloats the interface of the htmltextwriter even more. \n",
            "2 quick question: what is the compiler flag to allow g++ to spawn multiple instances of itself in order to compile large projects quicker (for example 4 source files at a time for a multi-core cpu)? \n",
            "3 what would be a set of nifty preprocessor hacks (ansi c89/iso c90 compatible) which enable some kind of ugly (but usable) object-orientation in c?  i am familiar with a few different object-oriented languages, so please do not respond with answers like \"learn c++!\". i have read \"object-oriented programming with ansi c\" (beware: pdf format) and several other interesting solutions, but i am mostly interested in yours :-)!    see also can you write object oriented code in c? \n",
            "4 pretty self-explanatory, i tried google and got a lot of the dreaded expertsexchange, i searched here as well to no avail. an online tutorial or example would be best. thanks guys. \n"
          ]
        }
      ],
      "source": [
        "show_clean_body(5)"
      ]
    },
    {
      "cell_type": "markdown",
      "metadata": {
        "id": "-lEGoxPpct8X"
      },
      "source": [
        "### Feature Engineering \n"
      ]
    },
    {
      "cell_type": "markdown",
      "metadata": {
        "id": "eWUdEQ9Kc0ZH"
      },
      "source": [
        "#### 12) Add post length "
      ]
    },
    {
      "cell_type": "code",
      "execution_count": null,
      "metadata": {
        "id": "tkxkS4ddcy3M"
      },
      "outputs": [],
      "source": [
        "df['body_length'] = df['Clean Body'].apply(lambda x: len(str(x)))"
      ]
    },
    {
      "cell_type": "markdown",
      "metadata": {
        "id": "3hy3KICKdLPW"
      },
      "source": [
        "#### 13) Add number of code snippets "
      ]
    },
    {
      "cell_type": "code",
      "execution_count": null,
      "metadata": {
        "id": "zA-W22RtdNof"
      },
      "outputs": [],
      "source": [
        "# Count the number of code snippets in each post\n",
        "code_regex = r'<code>[\\s\\S]*?<\\/code>'\n",
        "\n",
        "df['code_snippets'] = df['Body'].apply(lambda x: len(re.findall(code_regex, str(x))))"
      ]
    },
    {
      "cell_type": "code",
      "execution_count": null,
      "metadata": {
        "colab": {
          "base_uri": "https://localhost:8080/"
        },
        "id": "te2wsE5qdUwN",
        "outputId": "0d607a00-0f21-41e1-ea25-ae785d2a41da"
      },
      "outputs": [
        {
          "output_type": "execute_result",
          "data": {
            "text/plain": [
              "0    2\n",
              "1    4\n",
              "2    0\n",
              "3    0\n",
              "4    0\n",
              "Name: code_snippets, dtype: int64"
            ]
          },
          "metadata": {},
          "execution_count": 22
        }
      ],
      "source": [
        "df['code_snippets'].head(5)"
      ]
    },
    {
      "cell_type": "markdown",
      "metadata": {
        "id": "tLKYKSEWuAe7"
      },
      "source": [
        "#### Tokenize text"
      ]
    },
    {
      "cell_type": "markdown",
      "metadata": {
        "id": "3g-k95Hsb0Tz"
      },
      "source": [
        "#####Tokenize Title"
      ]
    },
    {
      "cell_type": "code",
      "execution_count": null,
      "metadata": {
        "colab": {
          "base_uri": "https://localhost:8080/"
        },
        "id": "27T5IlI0uDqG",
        "outputId": "37b96206-2312-48f9-ab8d-bb7abdf5a6d0"
      },
      "outputs": [
        {
          "output_type": "execute_result",
          "data": {
            "text/plain": [
              "0    [why, does, the, sqlserver, optimizer, get, so...\n",
              "1            [fluent, interface, for, rendering, html]\n",
              "2       [compiling, with, g++, using, multiple, cores]\n",
              "3                          [object-orientation, in, c]\n",
              "4    [how, can, i, read, and, manipulate, csv, file...\n",
              "Name: clean tokenized title, dtype: object"
            ]
          },
          "metadata": {},
          "execution_count": 23
        }
      ],
      "source": [
        "df['clean tokenized title'] = df['Title'].apply(lambda text: nltk.word_tokenize(text))\n",
        "\n",
        "df['clean tokenized title'].head(5)"
      ]
    },
    {
      "cell_type": "code",
      "execution_count": null,
      "metadata": {
        "colab": {
          "base_uri": "https://localhost:8080/",
          "height": 669
        },
        "id": "ycl_hpZlFaQm",
        "outputId": "34728f81-99e0-4693-80f8-d98791e97ec0"
      },
      "outputs": [
        {
          "output_type": "execute_result",
          "data": {
            "text/plain": [
              "       Id        CreationDate  \\\n",
              "0  414336 2009-01-05 20:09:49   \n",
              "1  414605 2009-01-05 21:33:21   \n",
              "2  414714 2009-01-05 22:21:04   \n",
              "3  415452 2009-01-06 04:26:16   \n",
              "4  415515 2009-01-06 04:55:55   \n",
              "\n",
              "                                               Title  \\\n",
              "0  why does the sqlserver optimizer get so confus...   \n",
              "1                fluent interface for rendering html   \n",
              "2            compiling with g++ using multiple cores   \n",
              "3                            object-orientation in c   \n",
              "4  how can i read and manipulate csv file data in...   \n",
              "\n",
              "                                                Body  \\\n",
              "0  <p>i know this has something to do with parame...   \n",
              "1  <p>rendering html with the htmltextwriter is n...   \n",
              "2  <p>quick question: what is the compiler flag t...   \n",
              "3  <p>what would be a set of nifty preprocessor h...   \n",
              "4  <p>pretty self-explanatory, i tried google and...   \n",
              "\n",
              "                                                Tags  ViewCount  CommentCount  \\\n",
              "0                    [sql, sql-server, optimization]       3368             6   \n",
              "1  [.net, html, render, web-controls, htmltextwri...       4557             7   \n",
              "2  [c++, compiler-construction, makefile, g++, mu...     159848             7   \n",
              "3                                   [c, oop, object]      82624             6   \n",
              "4                                         [c++, csv]     147860             7   \n",
              "\n",
              "   AnswerCount  Score                                               urls  \\\n",
              "0            9      7  [https://stackoverflow.com/questions/379007/kn...   \n",
              "1            4     10                                                 []   \n",
              "2            8    181                                                 []   \n",
              "3           23    161  [http://www.planetpdf.com/codecuts/pdfs/ooc.pd...   \n",
              "4            9     51                                                 []   \n",
              "\n",
              "                                          Clean Body  body_length  \\\n",
              "0  i know this has something to do with parameter...         1578   \n",
              "1  rendering html with the htmltextwriter is not ...         5117   \n",
              "2  quick question: what is the compiler flag to a...          197   \n",
              "3  what would be a set of nifty preprocessor hack...          477   \n",
              "4  pretty self-explanatory, i tried google and go...          181   \n",
              "\n",
              "   code_snippets                              clean tokenized title  \n",
              "0              2  [why, does, the, sqlserver, optimizer, get, so...  \n",
              "1              4          [fluent, interface, for, rendering, html]  \n",
              "2              0     [compiling, with, g++, using, multiple, cores]  \n",
              "3              0                        [object-orientation, in, c]  \n",
              "4              0  [how, can, i, read, and, manipulate, csv, file...  "
            ],
            "text/html": [
              "\n",
              "  <div id=\"df-71787c16-2902-4775-af20-223b980e1423\">\n",
              "    <div class=\"colab-df-container\">\n",
              "      <div>\n",
              "<style scoped>\n",
              "    .dataframe tbody tr th:only-of-type {\n",
              "        vertical-align: middle;\n",
              "    }\n",
              "\n",
              "    .dataframe tbody tr th {\n",
              "        vertical-align: top;\n",
              "    }\n",
              "\n",
              "    .dataframe thead th {\n",
              "        text-align: right;\n",
              "    }\n",
              "</style>\n",
              "<table border=\"1\" class=\"dataframe\">\n",
              "  <thead>\n",
              "    <tr style=\"text-align: right;\">\n",
              "      <th></th>\n",
              "      <th>Id</th>\n",
              "      <th>CreationDate</th>\n",
              "      <th>Title</th>\n",
              "      <th>Body</th>\n",
              "      <th>Tags</th>\n",
              "      <th>ViewCount</th>\n",
              "      <th>CommentCount</th>\n",
              "      <th>AnswerCount</th>\n",
              "      <th>Score</th>\n",
              "      <th>urls</th>\n",
              "      <th>Clean Body</th>\n",
              "      <th>body_length</th>\n",
              "      <th>code_snippets</th>\n",
              "      <th>clean tokenized title</th>\n",
              "    </tr>\n",
              "  </thead>\n",
              "  <tbody>\n",
              "    <tr>\n",
              "      <th>0</th>\n",
              "      <td>414336</td>\n",
              "      <td>2009-01-05 20:09:49</td>\n",
              "      <td>why does the sqlserver optimizer get so confus...</td>\n",
              "      <td>&lt;p&gt;i know this has something to do with parame...</td>\n",
              "      <td>[sql, sql-server, optimization]</td>\n",
              "      <td>3368</td>\n",
              "      <td>6</td>\n",
              "      <td>9</td>\n",
              "      <td>7</td>\n",
              "      <td>[https://stackoverflow.com/questions/379007/kn...</td>\n",
              "      <td>i know this has something to do with parameter...</td>\n",
              "      <td>1578</td>\n",
              "      <td>2</td>\n",
              "      <td>[why, does, the, sqlserver, optimizer, get, so...</td>\n",
              "    </tr>\n",
              "    <tr>\n",
              "      <th>1</th>\n",
              "      <td>414605</td>\n",
              "      <td>2009-01-05 21:33:21</td>\n",
              "      <td>fluent interface for rendering html</td>\n",
              "      <td>&lt;p&gt;rendering html with the htmltextwriter is n...</td>\n",
              "      <td>[.net, html, render, web-controls, htmltextwri...</td>\n",
              "      <td>4557</td>\n",
              "      <td>7</td>\n",
              "      <td>4</td>\n",
              "      <td>10</td>\n",
              "      <td>[]</td>\n",
              "      <td>rendering html with the htmltextwriter is not ...</td>\n",
              "      <td>5117</td>\n",
              "      <td>4</td>\n",
              "      <td>[fluent, interface, for, rendering, html]</td>\n",
              "    </tr>\n",
              "    <tr>\n",
              "      <th>2</th>\n",
              "      <td>414714</td>\n",
              "      <td>2009-01-05 22:21:04</td>\n",
              "      <td>compiling with g++ using multiple cores</td>\n",
              "      <td>&lt;p&gt;quick question: what is the compiler flag t...</td>\n",
              "      <td>[c++, compiler-construction, makefile, g++, mu...</td>\n",
              "      <td>159848</td>\n",
              "      <td>7</td>\n",
              "      <td>8</td>\n",
              "      <td>181</td>\n",
              "      <td>[]</td>\n",
              "      <td>quick question: what is the compiler flag to a...</td>\n",
              "      <td>197</td>\n",
              "      <td>0</td>\n",
              "      <td>[compiling, with, g++, using, multiple, cores]</td>\n",
              "    </tr>\n",
              "    <tr>\n",
              "      <th>3</th>\n",
              "      <td>415452</td>\n",
              "      <td>2009-01-06 04:26:16</td>\n",
              "      <td>object-orientation in c</td>\n",
              "      <td>&lt;p&gt;what would be a set of nifty preprocessor h...</td>\n",
              "      <td>[c, oop, object]</td>\n",
              "      <td>82624</td>\n",
              "      <td>6</td>\n",
              "      <td>23</td>\n",
              "      <td>161</td>\n",
              "      <td>[http://www.planetpdf.com/codecuts/pdfs/ooc.pd...</td>\n",
              "      <td>what would be a set of nifty preprocessor hack...</td>\n",
              "      <td>477</td>\n",
              "      <td>0</td>\n",
              "      <td>[object-orientation, in, c]</td>\n",
              "    </tr>\n",
              "    <tr>\n",
              "      <th>4</th>\n",
              "      <td>415515</td>\n",
              "      <td>2009-01-06 04:55:55</td>\n",
              "      <td>how can i read and manipulate csv file data in...</td>\n",
              "      <td>&lt;p&gt;pretty self-explanatory, i tried google and...</td>\n",
              "      <td>[c++, csv]</td>\n",
              "      <td>147860</td>\n",
              "      <td>7</td>\n",
              "      <td>9</td>\n",
              "      <td>51</td>\n",
              "      <td>[]</td>\n",
              "      <td>pretty self-explanatory, i tried google and go...</td>\n",
              "      <td>181</td>\n",
              "      <td>0</td>\n",
              "      <td>[how, can, i, read, and, manipulate, csv, file...</td>\n",
              "    </tr>\n",
              "  </tbody>\n",
              "</table>\n",
              "</div>\n",
              "      <button class=\"colab-df-convert\" onclick=\"convertToInteractive('df-71787c16-2902-4775-af20-223b980e1423')\"\n",
              "              title=\"Convert this dataframe to an interactive table.\"\n",
              "              style=\"display:none;\">\n",
              "        \n",
              "  <svg xmlns=\"http://www.w3.org/2000/svg\" height=\"24px\"viewBox=\"0 0 24 24\"\n",
              "       width=\"24px\">\n",
              "    <path d=\"M0 0h24v24H0V0z\" fill=\"none\"/>\n",
              "    <path d=\"M18.56 5.44l.94 2.06.94-2.06 2.06-.94-2.06-.94-.94-2.06-.94 2.06-2.06.94zm-11 1L8.5 8.5l.94-2.06 2.06-.94-2.06-.94L8.5 2.5l-.94 2.06-2.06.94zm10 10l.94 2.06.94-2.06 2.06-.94-2.06-.94-.94-2.06-.94 2.06-2.06.94z\"/><path d=\"M17.41 7.96l-1.37-1.37c-.4-.4-.92-.59-1.43-.59-.52 0-1.04.2-1.43.59L10.3 9.45l-7.72 7.72c-.78.78-.78 2.05 0 2.83L4 21.41c.39.39.9.59 1.41.59.51 0 1.02-.2 1.41-.59l7.78-7.78 2.81-2.81c.8-.78.8-2.07 0-2.86zM5.41 20L4 18.59l7.72-7.72 1.47 1.35L5.41 20z\"/>\n",
              "  </svg>\n",
              "      </button>\n",
              "      \n",
              "  <style>\n",
              "    .colab-df-container {\n",
              "      display:flex;\n",
              "      flex-wrap:wrap;\n",
              "      gap: 12px;\n",
              "    }\n",
              "\n",
              "    .colab-df-convert {\n",
              "      background-color: #E8F0FE;\n",
              "      border: none;\n",
              "      border-radius: 50%;\n",
              "      cursor: pointer;\n",
              "      display: none;\n",
              "      fill: #1967D2;\n",
              "      height: 32px;\n",
              "      padding: 0 0 0 0;\n",
              "      width: 32px;\n",
              "    }\n",
              "\n",
              "    .colab-df-convert:hover {\n",
              "      background-color: #E2EBFA;\n",
              "      box-shadow: 0px 1px 2px rgba(60, 64, 67, 0.3), 0px 1px 3px 1px rgba(60, 64, 67, 0.15);\n",
              "      fill: #174EA6;\n",
              "    }\n",
              "\n",
              "    [theme=dark] .colab-df-convert {\n",
              "      background-color: #3B4455;\n",
              "      fill: #D2E3FC;\n",
              "    }\n",
              "\n",
              "    [theme=dark] .colab-df-convert:hover {\n",
              "      background-color: #434B5C;\n",
              "      box-shadow: 0px 1px 3px 1px rgba(0, 0, 0, 0.15);\n",
              "      filter: drop-shadow(0px 1px 2px rgba(0, 0, 0, 0.3));\n",
              "      fill: #FFFFFF;\n",
              "    }\n",
              "  </style>\n",
              "\n",
              "      <script>\n",
              "        const buttonEl =\n",
              "          document.querySelector('#df-71787c16-2902-4775-af20-223b980e1423 button.colab-df-convert');\n",
              "        buttonEl.style.display =\n",
              "          google.colab.kernel.accessAllowed ? 'block' : 'none';\n",
              "\n",
              "        async function convertToInteractive(key) {\n",
              "          const element = document.querySelector('#df-71787c16-2902-4775-af20-223b980e1423');\n",
              "          const dataTable =\n",
              "            await google.colab.kernel.invokeFunction('convertToInteractive',\n",
              "                                                     [key], {});\n",
              "          if (!dataTable) return;\n",
              "\n",
              "          const docLinkHtml = 'Like what you see? Visit the ' +\n",
              "            '<a target=\"_blank\" href=https://colab.research.google.com/notebooks/data_table.ipynb>data table notebook</a>'\n",
              "            + ' to learn more about interactive tables.';\n",
              "          element.innerHTML = '';\n",
              "          dataTable['output_type'] = 'display_data';\n",
              "          await google.colab.output.renderOutput(dataTable, element);\n",
              "          const docLink = document.createElement('div');\n",
              "          docLink.innerHTML = docLinkHtml;\n",
              "          element.appendChild(docLink);\n",
              "        }\n",
              "      </script>\n",
              "    </div>\n",
              "  </div>\n",
              "  "
            ]
          },
          "metadata": {},
          "execution_count": 24
        }
      ],
      "source": [
        "df.head()"
      ]
    },
    {
      "cell_type": "markdown",
      "metadata": {
        "id": "-mo55r-Sb2LE"
      },
      "source": [
        "#####Tokenize Body (uncomment - takes 3-4 mins)\n",
        "\n"
      ]
    },
    {
      "cell_type": "code",
      "execution_count": null,
      "metadata": {
        "id": "9h2LBox5-cX-",
        "colab": {
          "base_uri": "https://localhost:8080/",
          "height": 336
        },
        "outputId": "8feb2bd2-03b5-451a-d430-b9c111ac9d5f"
      },
      "outputs": [
        {
          "output_type": "error",
          "ename": "KeyboardInterrupt",
          "evalue": "ignored",
          "traceback": [
            "\u001b[0;31m---------------------------------------------------------------------------\u001b[0m",
            "\u001b[0;31mKeyboardInterrupt\u001b[0m                         Traceback (most recent call last)",
            "\u001b[0;32m<ipython-input-106-9c31bc046be6>\u001b[0m in \u001b[0;36m<cell line: 1>\u001b[0;34m()\u001b[0m\n\u001b[0;32m----> 1\u001b[0;31m \u001b[0mdf\u001b[0m\u001b[0;34m[\u001b[0m\u001b[0;34m'clean tokenized body'\u001b[0m\u001b[0;34m]\u001b[0m \u001b[0;34m=\u001b[0m \u001b[0mdf\u001b[0m\u001b[0;34m[\u001b[0m\u001b[0;34m'Clean Body'\u001b[0m\u001b[0;34m]\u001b[0m\u001b[0;34m.\u001b[0m\u001b[0mapply\u001b[0m\u001b[0;34m(\u001b[0m\u001b[0;32mlambda\u001b[0m \u001b[0mtext\u001b[0m\u001b[0;34m:\u001b[0m \u001b[0mnltk\u001b[0m\u001b[0;34m.\u001b[0m\u001b[0mword_tokenize\u001b[0m\u001b[0;34m(\u001b[0m\u001b[0mtext\u001b[0m\u001b[0;34m)\u001b[0m\u001b[0;34m)\u001b[0m\u001b[0;34m\u001b[0m\u001b[0;34m\u001b[0m\u001b[0m\n\u001b[0m",
            "\u001b[0;32m/usr/local/lib/python3.9/dist-packages/pandas/core/series.py\u001b[0m in \u001b[0;36mapply\u001b[0;34m(self, func, convert_dtype, args, **kwargs)\u001b[0m\n\u001b[1;32m   4769\u001b[0m         \u001b[0mdtype\u001b[0m\u001b[0;34m:\u001b[0m \u001b[0mfloat64\u001b[0m\u001b[0;34m\u001b[0m\u001b[0;34m\u001b[0m\u001b[0m\n\u001b[1;32m   4770\u001b[0m         \"\"\"\n\u001b[0;32m-> 4771\u001b[0;31m         \u001b[0;32mreturn\u001b[0m \u001b[0mSeriesApply\u001b[0m\u001b[0;34m(\u001b[0m\u001b[0mself\u001b[0m\u001b[0;34m,\u001b[0m \u001b[0mfunc\u001b[0m\u001b[0;34m,\u001b[0m \u001b[0mconvert_dtype\u001b[0m\u001b[0;34m,\u001b[0m \u001b[0margs\u001b[0m\u001b[0;34m,\u001b[0m \u001b[0mkwargs\u001b[0m\u001b[0;34m)\u001b[0m\u001b[0;34m.\u001b[0m\u001b[0mapply\u001b[0m\u001b[0;34m(\u001b[0m\u001b[0;34m)\u001b[0m\u001b[0;34m\u001b[0m\u001b[0;34m\u001b[0m\u001b[0m\n\u001b[0m\u001b[1;32m   4772\u001b[0m \u001b[0;34m\u001b[0m\u001b[0m\n\u001b[1;32m   4773\u001b[0m     def _reduce(\n",
            "\u001b[0;32m/usr/local/lib/python3.9/dist-packages/pandas/core/apply.py\u001b[0m in \u001b[0;36mapply\u001b[0;34m(self)\u001b[0m\n\u001b[1;32m   1121\u001b[0m \u001b[0;34m\u001b[0m\u001b[0m\n\u001b[1;32m   1122\u001b[0m         \u001b[0;31m# self.f is Callable\u001b[0m\u001b[0;34m\u001b[0m\u001b[0;34m\u001b[0m\u001b[0m\n\u001b[0;32m-> 1123\u001b[0;31m         \u001b[0;32mreturn\u001b[0m \u001b[0mself\u001b[0m\u001b[0;34m.\u001b[0m\u001b[0mapply_standard\u001b[0m\u001b[0;34m(\u001b[0m\u001b[0;34m)\u001b[0m\u001b[0;34m\u001b[0m\u001b[0;34m\u001b[0m\u001b[0m\n\u001b[0m\u001b[1;32m   1124\u001b[0m \u001b[0;34m\u001b[0m\u001b[0m\n\u001b[1;32m   1125\u001b[0m     \u001b[0;32mdef\u001b[0m \u001b[0magg\u001b[0m\u001b[0;34m(\u001b[0m\u001b[0mself\u001b[0m\u001b[0;34m)\u001b[0m\u001b[0;34m:\u001b[0m\u001b[0;34m\u001b[0m\u001b[0;34m\u001b[0m\u001b[0m\n",
            "\u001b[0;32m/usr/local/lib/python3.9/dist-packages/pandas/core/apply.py\u001b[0m in \u001b[0;36mapply_standard\u001b[0;34m(self)\u001b[0m\n\u001b[1;32m   1172\u001b[0m             \u001b[0;32melse\u001b[0m\u001b[0;34m:\u001b[0m\u001b[0;34m\u001b[0m\u001b[0;34m\u001b[0m\u001b[0m\n\u001b[1;32m   1173\u001b[0m                 \u001b[0mvalues\u001b[0m \u001b[0;34m=\u001b[0m \u001b[0mobj\u001b[0m\u001b[0;34m.\u001b[0m\u001b[0mastype\u001b[0m\u001b[0;34m(\u001b[0m\u001b[0mobject\u001b[0m\u001b[0;34m)\u001b[0m\u001b[0;34m.\u001b[0m\u001b[0m_values\u001b[0m\u001b[0;34m\u001b[0m\u001b[0;34m\u001b[0m\u001b[0m\n\u001b[0;32m-> 1174\u001b[0;31m                 mapped = lib.map_infer(\n\u001b[0m\u001b[1;32m   1175\u001b[0m                     \u001b[0mvalues\u001b[0m\u001b[0;34m,\u001b[0m\u001b[0;34m\u001b[0m\u001b[0;34m\u001b[0m\u001b[0m\n\u001b[1;32m   1176\u001b[0m                     \u001b[0mf\u001b[0m\u001b[0;34m,\u001b[0m\u001b[0;34m\u001b[0m\u001b[0;34m\u001b[0m\u001b[0m\n",
            "\u001b[0;32m/usr/local/lib/python3.9/dist-packages/pandas/_libs/lib.pyx\u001b[0m in \u001b[0;36mpandas._libs.lib.map_infer\u001b[0;34m()\u001b[0m\n",
            "\u001b[0;32m<ipython-input-106-9c31bc046be6>\u001b[0m in \u001b[0;36m<lambda>\u001b[0;34m(text)\u001b[0m\n\u001b[0;32m----> 1\u001b[0;31m \u001b[0mdf\u001b[0m\u001b[0;34m[\u001b[0m\u001b[0;34m'clean tokenized body'\u001b[0m\u001b[0;34m]\u001b[0m \u001b[0;34m=\u001b[0m \u001b[0mdf\u001b[0m\u001b[0;34m[\u001b[0m\u001b[0;34m'Clean Body'\u001b[0m\u001b[0;34m]\u001b[0m\u001b[0;34m.\u001b[0m\u001b[0mapply\u001b[0m\u001b[0;34m(\u001b[0m\u001b[0;32mlambda\u001b[0m \u001b[0mtext\u001b[0m\u001b[0;34m:\u001b[0m \u001b[0mnltk\u001b[0m\u001b[0;34m.\u001b[0m\u001b[0mword_tokenize\u001b[0m\u001b[0;34m(\u001b[0m\u001b[0mtext\u001b[0m\u001b[0;34m)\u001b[0m\u001b[0;34m)\u001b[0m\u001b[0;34m\u001b[0m\u001b[0;34m\u001b[0m\u001b[0m\n\u001b[0m",
            "\u001b[0;32m/usr/local/lib/python3.9/dist-packages/nltk/tokenize/__init__.py\u001b[0m in \u001b[0;36mword_tokenize\u001b[0;34m(text, language, preserve_line)\u001b[0m\n\u001b[1;32m    128\u001b[0m     \"\"\"\n\u001b[1;32m    129\u001b[0m     \u001b[0msentences\u001b[0m \u001b[0;34m=\u001b[0m \u001b[0;34m[\u001b[0m\u001b[0mtext\u001b[0m\u001b[0;34m]\u001b[0m \u001b[0;32mif\u001b[0m \u001b[0mpreserve_line\u001b[0m \u001b[0;32melse\u001b[0m \u001b[0msent_tokenize\u001b[0m\u001b[0;34m(\u001b[0m\u001b[0mtext\u001b[0m\u001b[0;34m,\u001b[0m \u001b[0mlanguage\u001b[0m\u001b[0;34m)\u001b[0m\u001b[0;34m\u001b[0m\u001b[0;34m\u001b[0m\u001b[0m\n\u001b[0;32m--> 130\u001b[0;31m     return [\n\u001b[0m\u001b[1;32m    131\u001b[0m         \u001b[0mtoken\u001b[0m \u001b[0;32mfor\u001b[0m \u001b[0msent\u001b[0m \u001b[0;32min\u001b[0m \u001b[0msentences\u001b[0m \u001b[0;32mfor\u001b[0m \u001b[0mtoken\u001b[0m \u001b[0;32min\u001b[0m \u001b[0m_treebank_word_tokenizer\u001b[0m\u001b[0;34m.\u001b[0m\u001b[0mtokenize\u001b[0m\u001b[0;34m(\u001b[0m\u001b[0msent\u001b[0m\u001b[0;34m)\u001b[0m\u001b[0;34m\u001b[0m\u001b[0;34m\u001b[0m\u001b[0m\n\u001b[1;32m    132\u001b[0m     ]\n",
            "\u001b[0;32m/usr/local/lib/python3.9/dist-packages/nltk/tokenize/__init__.py\u001b[0m in \u001b[0;36m<listcomp>\u001b[0;34m(.0)\u001b[0m\n\u001b[1;32m    129\u001b[0m     \u001b[0msentences\u001b[0m \u001b[0;34m=\u001b[0m \u001b[0;34m[\u001b[0m\u001b[0mtext\u001b[0m\u001b[0;34m]\u001b[0m \u001b[0;32mif\u001b[0m \u001b[0mpreserve_line\u001b[0m \u001b[0;32melse\u001b[0m \u001b[0msent_tokenize\u001b[0m\u001b[0;34m(\u001b[0m\u001b[0mtext\u001b[0m\u001b[0;34m,\u001b[0m \u001b[0mlanguage\u001b[0m\u001b[0;34m)\u001b[0m\u001b[0;34m\u001b[0m\u001b[0;34m\u001b[0m\u001b[0m\n\u001b[1;32m    130\u001b[0m     return [\n\u001b[0;32m--> 131\u001b[0;31m         \u001b[0mtoken\u001b[0m \u001b[0;32mfor\u001b[0m \u001b[0msent\u001b[0m \u001b[0;32min\u001b[0m \u001b[0msentences\u001b[0m \u001b[0;32mfor\u001b[0m \u001b[0mtoken\u001b[0m \u001b[0;32min\u001b[0m \u001b[0m_treebank_word_tokenizer\u001b[0m\u001b[0;34m.\u001b[0m\u001b[0mtokenize\u001b[0m\u001b[0;34m(\u001b[0m\u001b[0msent\u001b[0m\u001b[0;34m)\u001b[0m\u001b[0;34m\u001b[0m\u001b[0;34m\u001b[0m\u001b[0m\n\u001b[0m\u001b[1;32m    132\u001b[0m     ]\n",
            "\u001b[0;32m/usr/local/lib/python3.9/dist-packages/nltk/tokenize/destructive.py\u001b[0m in \u001b[0;36mtokenize\u001b[0;34m(self, text, convert_parentheses, return_str)\u001b[0m\n\u001b[1;32m    158\u001b[0m \u001b[0;34m\u001b[0m\u001b[0m\n\u001b[1;32m    159\u001b[0m         \u001b[0;32mfor\u001b[0m \u001b[0mregexp\u001b[0m\u001b[0;34m,\u001b[0m \u001b[0msubstitution\u001b[0m \u001b[0;32min\u001b[0m \u001b[0mself\u001b[0m\u001b[0;34m.\u001b[0m\u001b[0mPUNCTUATION\u001b[0m\u001b[0;34m:\u001b[0m\u001b[0;34m\u001b[0m\u001b[0;34m\u001b[0m\u001b[0m\n\u001b[0;32m--> 160\u001b[0;31m             \u001b[0mtext\u001b[0m \u001b[0;34m=\u001b[0m \u001b[0mregexp\u001b[0m\u001b[0;34m.\u001b[0m\u001b[0msub\u001b[0m\u001b[0;34m(\u001b[0m\u001b[0msubstitution\u001b[0m\u001b[0;34m,\u001b[0m \u001b[0mtext\u001b[0m\u001b[0;34m)\u001b[0m\u001b[0;34m\u001b[0m\u001b[0;34m\u001b[0m\u001b[0m\n\u001b[0m\u001b[1;32m    161\u001b[0m \u001b[0;34m\u001b[0m\u001b[0m\n\u001b[1;32m    162\u001b[0m         \u001b[0;31m# Handles parentheses.\u001b[0m\u001b[0;34m\u001b[0m\u001b[0;34m\u001b[0m\u001b[0m\n",
            "\u001b[0;31mKeyboardInterrupt\u001b[0m: "
          ]
        }
      ],
      "source": [
        "df['clean tokenized body'] = df['Clean Body'].apply(lambda text: nltk.word_tokenize(text))"
      ]
    },
    {
      "cell_type": "code",
      "execution_count": null,
      "metadata": {
        "id": "Bj7CYEYJBJis"
      },
      "outputs": [],
      "source": [
        "df.reset_index(inplace = True)"
      ]
    },
    {
      "cell_type": "markdown",
      "metadata": {
        "id": "fFPUnSouFqnO"
      },
      "source": [
        "#### Create sets"
      ]
    },
    {
      "cell_type": "code",
      "execution_count": null,
      "metadata": {
        "id": "X0vj92mjDZi3"
      },
      "outputs": [],
      "source": [
        "df['title set'] = df['clean tokenized title'].apply(lambda x: set(x))"
      ]
    },
    {
      "cell_type": "code",
      "execution_count": null,
      "metadata": {
        "id": "nIMnhdTqEA_k"
      },
      "outputs": [],
      "source": [
        "df['body set'] = df['clean tokenized title'].apply(lambda x: set(x))"
      ]
    },
    {
      "cell_type": "code",
      "execution_count": null,
      "metadata": {
        "id": "12__wj-ZGEzy"
      },
      "outputs": [],
      "source": [
        "df['union body title set'] = df.apply(lambda x: x['title set'].union(x['body set']), axis=1)"
      ]
    },
    {
      "cell_type": "code",
      "execution_count": null,
      "metadata": {
        "id": "t6Ggi3mc1pOJ"
      },
      "outputs": [],
      "source": [
        "df = df.drop(columns = ['Title', 'Body', 'urls'])"
      ]
    },
    {
      "cell_type": "code",
      "execution_count": null,
      "metadata": {
        "colab": {
          "base_uri": "https://localhost:8080/",
          "height": 687
        },
        "id": "w_NkIBj4Updk",
        "outputId": "7034bee2-9934-4829-b805-85d6dee69e5f"
      },
      "outputs": [
        {
          "output_type": "execute_result",
          "data": {
            "text/plain": [
              "   index      Id        CreationDate  \\\n",
              "0      0  414336 2009-01-05 20:09:49   \n",
              "1      1  414605 2009-01-05 21:33:21   \n",
              "2      2  414714 2009-01-05 22:21:04   \n",
              "3      3  415452 2009-01-06 04:26:16   \n",
              "4      4  415515 2009-01-06 04:55:55   \n",
              "\n",
              "                                                Tags  ViewCount  CommentCount  \\\n",
              "0                    [sql, sql-server, optimization]       3368             6   \n",
              "1  [.net, html, render, web-controls, htmltextwri...       4557             7   \n",
              "2  [c++, compiler-construction, makefile, g++, mu...     159848             7   \n",
              "3                                   [c, oop, object]      82624             6   \n",
              "4                                         [c++, csv]     147860             7   \n",
              "\n",
              "   AnswerCount  Score                                         Clean Body  \\\n",
              "0            9      7  i know this has something to do with parameter...   \n",
              "1            4     10  rendering html with the htmltextwriter is not ...   \n",
              "2            8    181  quick question: what is the compiler flag to a...   \n",
              "3           23    161  what would be a set of nifty preprocessor hack...   \n",
              "4            9     51  pretty self-explanatory, i tried google and go...   \n",
              "\n",
              "   body_length  code_snippets  \\\n",
              "0         1578              2   \n",
              "1         5117              4   \n",
              "2          197              0   \n",
              "3          477              0   \n",
              "4          181              0   \n",
              "\n",
              "                               clean tokenized title  \\\n",
              "0  [why, does, the, sqlserver, optimizer, get, so...   \n",
              "1          [fluent, interface, for, rendering, html]   \n",
              "2     [compiling, with, g++, using, multiple, cores]   \n",
              "3                        [object-orientation, in, c]   \n",
              "4  [how, can, i, read, and, manipulate, csv, file...   \n",
              "\n",
              "                                clean tokenized body  \\\n",
              "0  [i, know, this, has, something, to, do, with, ...   \n",
              "1  [rendering, html, with, the, htmltextwriter, i...   \n",
              "2  [quick, question, :, what, is, the, compiler, ...   \n",
              "3  [what, would, be, a, set, of, nifty, preproces...   \n",
              "4  [pretty, self-explanatory, ,, i, tried, google...   \n",
              "\n",
              "                                           title set  \\\n",
              "0  {the, optimizer, so, parameters, with, does, g...   \n",
              "1          {rendering, interface, for, html, fluent}   \n",
              "2     {multiple, using, with, g++, compiling, cores}   \n",
              "3                        {in, object-orientation, c}   \n",
              "4  {read, file, and, manipulate, i, how, csv, dat...   \n",
              "\n",
              "                                            body set  \\\n",
              "0  {the, optimizer, so, parameters, with, does, g...   \n",
              "1          {rendering, interface, for, html, fluent}   \n",
              "2     {multiple, using, with, g++, compiling, cores}   \n",
              "3                        {in, object-orientation, c}   \n",
              "4  {read, file, and, manipulate, i, how, csv, dat...   \n",
              "\n",
              "                                union body title set  \n",
              "0  {the, optimizer, with, does, get, confused, ?,...  \n",
              "1          {rendering, interface, for, html, fluent}  \n",
              "2     {multiple, using, with, g++, compiling, cores}  \n",
              "3                        {object-orientation, in, c}  \n",
              "4  {read, and, i, how, can, ?, file, manipulate, ...  "
            ],
            "text/html": [
              "\n",
              "  <div id=\"df-2e3033c8-beb3-4057-b26e-be4f665f5f42\">\n",
              "    <div class=\"colab-df-container\">\n",
              "      <div>\n",
              "<style scoped>\n",
              "    .dataframe tbody tr th:only-of-type {\n",
              "        vertical-align: middle;\n",
              "    }\n",
              "\n",
              "    .dataframe tbody tr th {\n",
              "        vertical-align: top;\n",
              "    }\n",
              "\n",
              "    .dataframe thead th {\n",
              "        text-align: right;\n",
              "    }\n",
              "</style>\n",
              "<table border=\"1\" class=\"dataframe\">\n",
              "  <thead>\n",
              "    <tr style=\"text-align: right;\">\n",
              "      <th></th>\n",
              "      <th>index</th>\n",
              "      <th>Id</th>\n",
              "      <th>CreationDate</th>\n",
              "      <th>Tags</th>\n",
              "      <th>ViewCount</th>\n",
              "      <th>CommentCount</th>\n",
              "      <th>AnswerCount</th>\n",
              "      <th>Score</th>\n",
              "      <th>Clean Body</th>\n",
              "      <th>body_length</th>\n",
              "      <th>code_snippets</th>\n",
              "      <th>clean tokenized title</th>\n",
              "      <th>clean tokenized body</th>\n",
              "      <th>title set</th>\n",
              "      <th>body set</th>\n",
              "      <th>union body title set</th>\n",
              "    </tr>\n",
              "  </thead>\n",
              "  <tbody>\n",
              "    <tr>\n",
              "      <th>0</th>\n",
              "      <td>0</td>\n",
              "      <td>414336</td>\n",
              "      <td>2009-01-05 20:09:49</td>\n",
              "      <td>[sql, sql-server, optimization]</td>\n",
              "      <td>3368</td>\n",
              "      <td>6</td>\n",
              "      <td>9</td>\n",
              "      <td>7</td>\n",
              "      <td>i know this has something to do with parameter...</td>\n",
              "      <td>1578</td>\n",
              "      <td>2</td>\n",
              "      <td>[why, does, the, sqlserver, optimizer, get, so...</td>\n",
              "      <td>[i, know, this, has, something, to, do, with, ...</td>\n",
              "      <td>{the, optimizer, so, parameters, with, does, g...</td>\n",
              "      <td>{the, optimizer, so, parameters, with, does, g...</td>\n",
              "      <td>{the, optimizer, with, does, get, confused, ?,...</td>\n",
              "    </tr>\n",
              "    <tr>\n",
              "      <th>1</th>\n",
              "      <td>1</td>\n",
              "      <td>414605</td>\n",
              "      <td>2009-01-05 21:33:21</td>\n",
              "      <td>[.net, html, render, web-controls, htmltextwri...</td>\n",
              "      <td>4557</td>\n",
              "      <td>7</td>\n",
              "      <td>4</td>\n",
              "      <td>10</td>\n",
              "      <td>rendering html with the htmltextwriter is not ...</td>\n",
              "      <td>5117</td>\n",
              "      <td>4</td>\n",
              "      <td>[fluent, interface, for, rendering, html]</td>\n",
              "      <td>[rendering, html, with, the, htmltextwriter, i...</td>\n",
              "      <td>{rendering, interface, for, html, fluent}</td>\n",
              "      <td>{rendering, interface, for, html, fluent}</td>\n",
              "      <td>{rendering, interface, for, html, fluent}</td>\n",
              "    </tr>\n",
              "    <tr>\n",
              "      <th>2</th>\n",
              "      <td>2</td>\n",
              "      <td>414714</td>\n",
              "      <td>2009-01-05 22:21:04</td>\n",
              "      <td>[c++, compiler-construction, makefile, g++, mu...</td>\n",
              "      <td>159848</td>\n",
              "      <td>7</td>\n",
              "      <td>8</td>\n",
              "      <td>181</td>\n",
              "      <td>quick question: what is the compiler flag to a...</td>\n",
              "      <td>197</td>\n",
              "      <td>0</td>\n",
              "      <td>[compiling, with, g++, using, multiple, cores]</td>\n",
              "      <td>[quick, question, :, what, is, the, compiler, ...</td>\n",
              "      <td>{multiple, using, with, g++, compiling, cores}</td>\n",
              "      <td>{multiple, using, with, g++, compiling, cores}</td>\n",
              "      <td>{multiple, using, with, g++, compiling, cores}</td>\n",
              "    </tr>\n",
              "    <tr>\n",
              "      <th>3</th>\n",
              "      <td>3</td>\n",
              "      <td>415452</td>\n",
              "      <td>2009-01-06 04:26:16</td>\n",
              "      <td>[c, oop, object]</td>\n",
              "      <td>82624</td>\n",
              "      <td>6</td>\n",
              "      <td>23</td>\n",
              "      <td>161</td>\n",
              "      <td>what would be a set of nifty preprocessor hack...</td>\n",
              "      <td>477</td>\n",
              "      <td>0</td>\n",
              "      <td>[object-orientation, in, c]</td>\n",
              "      <td>[what, would, be, a, set, of, nifty, preproces...</td>\n",
              "      <td>{in, object-orientation, c}</td>\n",
              "      <td>{in, object-orientation, c}</td>\n",
              "      <td>{object-orientation, in, c}</td>\n",
              "    </tr>\n",
              "    <tr>\n",
              "      <th>4</th>\n",
              "      <td>4</td>\n",
              "      <td>415515</td>\n",
              "      <td>2009-01-06 04:55:55</td>\n",
              "      <td>[c++, csv]</td>\n",
              "      <td>147860</td>\n",
              "      <td>7</td>\n",
              "      <td>9</td>\n",
              "      <td>51</td>\n",
              "      <td>pretty self-explanatory, i tried google and go...</td>\n",
              "      <td>181</td>\n",
              "      <td>0</td>\n",
              "      <td>[how, can, i, read, and, manipulate, csv, file...</td>\n",
              "      <td>[pretty, self-explanatory, ,, i, tried, google...</td>\n",
              "      <td>{read, file, and, manipulate, i, how, csv, dat...</td>\n",
              "      <td>{read, file, and, manipulate, i, how, csv, dat...</td>\n",
              "      <td>{read, and, i, how, can, ?, file, manipulate, ...</td>\n",
              "    </tr>\n",
              "  </tbody>\n",
              "</table>\n",
              "</div>\n",
              "      <button class=\"colab-df-convert\" onclick=\"convertToInteractive('df-2e3033c8-beb3-4057-b26e-be4f665f5f42')\"\n",
              "              title=\"Convert this dataframe to an interactive table.\"\n",
              "              style=\"display:none;\">\n",
              "        \n",
              "  <svg xmlns=\"http://www.w3.org/2000/svg\" height=\"24px\"viewBox=\"0 0 24 24\"\n",
              "       width=\"24px\">\n",
              "    <path d=\"M0 0h24v24H0V0z\" fill=\"none\"/>\n",
              "    <path d=\"M18.56 5.44l.94 2.06.94-2.06 2.06-.94-2.06-.94-.94-2.06-.94 2.06-2.06.94zm-11 1L8.5 8.5l.94-2.06 2.06-.94-2.06-.94L8.5 2.5l-.94 2.06-2.06.94zm10 10l.94 2.06.94-2.06 2.06-.94-2.06-.94-.94-2.06-.94 2.06-2.06.94z\"/><path d=\"M17.41 7.96l-1.37-1.37c-.4-.4-.92-.59-1.43-.59-.52 0-1.04.2-1.43.59L10.3 9.45l-7.72 7.72c-.78.78-.78 2.05 0 2.83L4 21.41c.39.39.9.59 1.41.59.51 0 1.02-.2 1.41-.59l7.78-7.78 2.81-2.81c.8-.78.8-2.07 0-2.86zM5.41 20L4 18.59l7.72-7.72 1.47 1.35L5.41 20z\"/>\n",
              "  </svg>\n",
              "      </button>\n",
              "      \n",
              "  <style>\n",
              "    .colab-df-container {\n",
              "      display:flex;\n",
              "      flex-wrap:wrap;\n",
              "      gap: 12px;\n",
              "    }\n",
              "\n",
              "    .colab-df-convert {\n",
              "      background-color: #E8F0FE;\n",
              "      border: none;\n",
              "      border-radius: 50%;\n",
              "      cursor: pointer;\n",
              "      display: none;\n",
              "      fill: #1967D2;\n",
              "      height: 32px;\n",
              "      padding: 0 0 0 0;\n",
              "      width: 32px;\n",
              "    }\n",
              "\n",
              "    .colab-df-convert:hover {\n",
              "      background-color: #E2EBFA;\n",
              "      box-shadow: 0px 1px 2px rgba(60, 64, 67, 0.3), 0px 1px 3px 1px rgba(60, 64, 67, 0.15);\n",
              "      fill: #174EA6;\n",
              "    }\n",
              "\n",
              "    [theme=dark] .colab-df-convert {\n",
              "      background-color: #3B4455;\n",
              "      fill: #D2E3FC;\n",
              "    }\n",
              "\n",
              "    [theme=dark] .colab-df-convert:hover {\n",
              "      background-color: #434B5C;\n",
              "      box-shadow: 0px 1px 3px 1px rgba(0, 0, 0, 0.15);\n",
              "      filter: drop-shadow(0px 1px 2px rgba(0, 0, 0, 0.3));\n",
              "      fill: #FFFFFF;\n",
              "    }\n",
              "  </style>\n",
              "\n",
              "      <script>\n",
              "        const buttonEl =\n",
              "          document.querySelector('#df-2e3033c8-beb3-4057-b26e-be4f665f5f42 button.colab-df-convert');\n",
              "        buttonEl.style.display =\n",
              "          google.colab.kernel.accessAllowed ? 'block' : 'none';\n",
              "\n",
              "        async function convertToInteractive(key) {\n",
              "          const element = document.querySelector('#df-2e3033c8-beb3-4057-b26e-be4f665f5f42');\n",
              "          const dataTable =\n",
              "            await google.colab.kernel.invokeFunction('convertToInteractive',\n",
              "                                                     [key], {});\n",
              "          if (!dataTable) return;\n",
              "\n",
              "          const docLinkHtml = 'Like what you see? Visit the ' +\n",
              "            '<a target=\"_blank\" href=https://colab.research.google.com/notebooks/data_table.ipynb>data table notebook</a>'\n",
              "            + ' to learn more about interactive tables.';\n",
              "          element.innerHTML = '';\n",
              "          dataTable['output_type'] = 'display_data';\n",
              "          await google.colab.output.renderOutput(dataTable, element);\n",
              "          const docLink = document.createElement('div');\n",
              "          docLink.innerHTML = docLinkHtml;\n",
              "          element.appendChild(docLink);\n",
              "        }\n",
              "      </script>\n",
              "    </div>\n",
              "  </div>\n",
              "  "
            ]
          },
          "metadata": {},
          "execution_count": 81
        }
      ],
      "source": [
        "df.head()"
      ]
    },
    {
      "cell_type": "code",
      "execution_count": null,
      "metadata": {
        "id": "u4YwS2PsFgNl"
      },
      "outputs": [],
      "source": [
        "df = df.drop_duplicates(subset = 'Id')"
      ]
    },
    {
      "cell_type": "code",
      "execution_count": null,
      "metadata": {
        "colab": {
          "base_uri": "https://localhost:8080/"
        },
        "id": "kekWYYpBUtBa",
        "outputId": "d6b9a57a-2c21-42ef-db4f-7d2e71ade33f"
      },
      "outputs": [
        {
          "output_type": "execute_result",
          "data": {
            "text/plain": [
              "(101611, 16)"
            ]
          },
          "metadata": {},
          "execution_count": 83
        }
      ],
      "source": [
        "df.shape"
      ]
    },
    {
      "cell_type": "code",
      "execution_count": null,
      "metadata": {
        "colab": {
          "base_uri": "https://localhost:8080/"
        },
        "id": "eEdatcgKGb8Q",
        "outputId": "8bcbace3-cd3b-43e8-b721-067b6d809bbc"
      },
      "outputs": [
        {
          "output_type": "execute_result",
          "data": {
            "text/plain": [
              "index                    0\n",
              "Id                       0\n",
              "CreationDate             0\n",
              "Tags                     0\n",
              "ViewCount                0\n",
              "CommentCount             0\n",
              "AnswerCount              0\n",
              "Score                    0\n",
              "Clean Body               0\n",
              "body_length              0\n",
              "code_snippets            0\n",
              "clean tokenized title    0\n",
              "clean tokenized body     0\n",
              "title set                0\n",
              "body set                 0\n",
              "union body title set     0\n",
              "dtype: int64"
            ]
          },
          "metadata": {},
          "execution_count": 84
        }
      ],
      "source": [
        "df.isna().sum()"
      ]
    },
    {
      "cell_type": "markdown",
      "metadata": {
        "id": "yMv24IcF0t6R"
      },
      "source": [
        "##### Export to CSV"
      ]
    },
    {
      "cell_type": "code",
      "execution_count": null,
      "metadata": {
        "colab": {
          "base_uri": "https://localhost:8080/"
        },
        "id": "is9n2aLB0k__",
        "outputId": "56ab0e8f-8cf7-4fb2-adb5-f4884787729d"
      },
      "outputs": [
        {
          "name": "stdout",
          "output_type": "stream",
          "text": [
            "/content/drive/Shared drives/CIS522\n"
          ]
        }
      ],
      "source": [
        "cd '/content/drive/Shared drives/CIS522'"
      ]
    },
    {
      "cell_type": "code",
      "execution_count": null,
      "metadata": {
        "id": "QWJ1mAX92GJu"
      },
      "outputs": [],
      "source": [
        "df.to_csv('final_final_df.csv', index = False)"
      ]
    },
    {
      "cell_type": "markdown",
      "metadata": {
        "id": "ENH8KUC0aP0p"
      },
      "source": [
        "For some really weird reason, when the df is saved to a csv it duplicates a ton of stuff and goes crazy so you have to run the function below to be able to use the cleaned df from the one saved."
      ]
    },
    {
      "cell_type": "code",
      "execution_count": null,
      "metadata": {
        "id": "VV5Rd3saZZlw"
      },
      "outputs": [],
      "source": [
        "def fix_uploaded_csv(df):\n",
        "  df = df.drop_duplicates(subset = 'Id')\n",
        "  df = df.reset_index()\n",
        "  df = df.drop(columns = ['index'])\n",
        "  df = df.dropna(how = 'any')\n",
        "  print(df.shape)\n",
        "  return df"
      ]
    },
    {
      "cell_type": "markdown",
      "metadata": {
        "id": "J81xypqyS6Vn"
      },
      "source": [
        "#### export to pkl"
      ]
    },
    {
      "cell_type": "code",
      "execution_count": null,
      "metadata": {
        "colab": {
          "background_save": true
        },
        "id": "yvD03QyDS86I"
      },
      "outputs": [],
      "source": [
        "df.head(5)"
      ]
    },
    {
      "cell_type": "markdown",
      "metadata": {
        "id": "qTRJoa8UzRG2"
      },
      "source": [
        "## EDA "
      ]
    },
    {
      "cell_type": "code",
      "execution_count": null,
      "metadata": {
        "colab": {
          "base_uri": "https://localhost:8080/"
        },
        "id": "6azeNZDv-KkM",
        "outputId": "847511a7-33b1-4c08-a772-fa37e5838b50"
      },
      "outputs": [
        {
          "data": {
            "text/plain": [
              "0         1578\n",
              "1         5117\n",
              "2          197\n",
              "3          477\n",
              "4          181\n",
              "          ... \n",
              "101606     692\n",
              "101607     600\n",
              "101608    2838\n",
              "101609    1953\n",
              "101610     631\n",
              "Name: Clean Body, Length: 101611, dtype: int64"
            ]
          },
          "execution_count": 40,
          "metadata": {},
          "output_type": "execute_result"
        }
      ],
      "source": [
        "df['Clean Body'].apply(lambda text: len(text))"
      ]
    },
    {
      "cell_type": "code",
      "execution_count": null,
      "metadata": {
        "colab": {
          "base_uri": "https://localhost:8080/"
        },
        "id": "NDyjdrAYzXEm",
        "outputId": "ed8b9b15-135e-4b65-d337-f19997045d65"
      },
      "outputs": [
        {
          "output_type": "stream",
          "name": "stdout",
          "text": [
            "why does the sqlserver optimizer get so confused with parameters?\n",
            "i know this has something to do with parameter sniffing, but i am just perplexed at how something like the following example is even possible with a piece of technology that does so many complex things well.  many of us have run into stored procedures that intermittently run several of orders of magnitude slower than usual, and then if you copy out the sql from the procedure and use the same parameter values in a separate query window, it runs as fast as usual.  i just fixed a procedure like that by converting this:  alter procedure p_myproc (     @param1 int ) as -- do a complex query with @param1   to this:  alter procedure p_myproc (     @param1 int ) as  declare @param1copy int; set @param1copy = @param1;  -- do the query using @param1copy   it went from running in over a minute back down to under one second, like it usually runs.  this behavior seems totally random.  for 9 out of 10 @param1 inputs, the query is fast, regardless of how much data it ends up needing to crunch, or how big the result set it.  but for that 1 out of 10, it just gets lost.  and the fix is to replace an int with the same int in the query?  it makes no sense.  [edit]  @gbn linked to this question, which details a similar problem:    i hesitate to cry \"bug!\" because that is so often a cop-out, but this really does seem like a bug to me.  when i run the two versions of my stored procedure with the same input, i see identical query plans.  the only difference is that the original takes more than a minute to run, and the version with the goofy parameter copying runs instantly. \n"
          ]
        }
      ],
      "source": [
        "print(df.iloc[0][\"Title\"])\n",
        "print(df.iloc[0][\"Clean Body\"])"
      ]
    },
    {
      "cell_type": "code",
      "source": [
        "print(df.iloc[1][\"Title\"])\n",
        "print(df.iloc[1][\"Clean Body\"])"
      ],
      "metadata": {
        "colab": {
          "base_uri": "https://localhost:8080/"
        },
        "id": "AoXttQQLuImn",
        "outputId": "d061706a-04a3-4555-8aae-7f2f98040064"
      },
      "execution_count": null,
      "outputs": [
        {
          "output_type": "stream",
          "name": "stdout",
          "text": [
            "fluent interface for rendering html\n",
            "rendering html with the htmltextwriter is not incredibly intuitive in my opinion, but if you are implementing web controls in web forms it is what you have to work with. i thought that it might be possible to create a fluent interface for this that reads a bit more like the html it outputs. i would like to know what people think of the syntax that i have come up with so far.      public void render(htmltextwriter writer)     {         writer             .tag(htmltextwritertag.div, e =&gt; e[htmltextwriterattribute.id, \"id\"][htmltextwriterattribute.name,\"name\"][htmltextwriterattribute.class,\"class\"])                 .tag(htmltextwritertag.span)                     .text(\"lorem\")                 .endtag()                 .tag(htmltextwritertag.span)                     .text(\"ipsum\")                 .endtag()             .endtag();             }   \"tag\", \"text\" and \"endtag\" are extension methods for the htmltextwriter class that returns the instance it takes in so that calls can be chained. the argument passed to the lambda used in the overload used by the first call to \"tag\" is a \"htmlattributemanager\", which is simple class that wraps an htmltextwriter to provide an indexer that takes an htmltextwriterattribute and a string value and returns the instance so that calls can be chained. i also have methods on this class for the most common attributes, such as \"name\", \"class\" and \"id\" so that you could write the first call above as follows:  .tag(htmltextwritertag.div, e =&gt; e.id(\"id\").name(\"name\").class(\"class\"))   a little longer example:  public void render(htmltextwriter writer) {     writer         .tag(htmltextwritertag.div, a =&gt; a.class(\"someclass\", \"someotherclass\"))             .tag(htmltextwritertag.h1).text(\"lorem\").endtag()             .tag(htmltextwritertag.select, t =&gt; t.id(\"fooselect\").name(\"fooselect\").class(\"selectclass\"))                 .tag(htmltextwritertag.option, t =&gt; t[htmltextwriterattribute.value, \"1\"][htmltextwriterattribute.title, \"selects the number 1.\"])                     .text(\"1\")                 .endtag(htmltextwritertag.option)                 .tag(htmltextwritertag.option, t =&gt; t[htmltextwriterattribute.value, \"2\"][htmltextwriterattribute.title, \"selects the number 2.\"])                     .text(\"2\")                 .endtag(htmltextwritertag.option)                 .tag(htmltextwritertag.option, t =&gt; t[htmltextwriterattribute.value, \"3\"][htmltextwriterattribute.title, \"selects the number 3.\"])                     .text(\"3\")                 .endtag(htmltextwritertag.option)             .endtag(htmltextwritertag.select)         .endtag(htmltextwritertag.div); }   hopefully you will be able to \"decipher\" what html this snippet outputs, at least that is the idea.  please give me any thoughts on how the syntax can be improved upon, maybe better method names, maybe some other approach all together.  edit: i thought it might be interesting to see what the same snippet would look like without the use of the fluent interface, for comparison:  public void renderusinghtmltextwriterstandardmethods(htmltextwriter writer) {     writer.addattribute(htmltextwriterattribute.class, \"someclass someotherclass\");     writer.renderbegintag(htmltextwritertag.div);      writer.renderbegintag(htmltextwritertag.h1);     writer.write(\"lorem\");     writer.renderendtag();      writer.addattribute(htmltextwriterattribute.id, \"fooselect\");     writer.addattribute(htmltextwriterattribute.name, \"fooselect\");     writer.addattribute(htmltextwriterattribute.class, \"selectclass\");     writer.renderbegintag(htmltextwritertag.select);      writer.addattribute(htmltextwriterattribute.value, \"1\");     writer.addattribute(htmltextwriterattribute.title, \"selects the number 1.\");     writer.renderbegintag(htmltextwritertag.option);     writer.write(\"1\");     writer.renderendtag();      writer.addattribute(htmltextwriterattribute.value, \"2\");     writer.addattribute(htmltextwriterattribute.title, \"selects the number 2.\");     writer.renderbegintag(htmltextwritertag.option);     writer.write(\"2\");     writer.renderendtag();      writer.addattribute(htmltextwriterattribute.value, \"3\");     writer.addattribute(htmltextwriterattribute.title, \"selects the number 3.\");     writer.renderbegintag(htmltextwritertag.option);     writer.write(\"3\");     writer.renderendtag();      writer.renderendtag();      writer.renderendtag(); }   edit: i should probably be a little more explicit in that one of the goals with this is that it should incur as little overhead as possible, this is why i have limited the use of lambdas. also at first i used a class that represented a tag so that something similar to a dom-tree was built by the syntax before the rendering, the syntax was very similar though. i abandoned this solution for the slight memory overhead it incurs. there are still some of this present in the use of the htmlattributemanager class, i have been thinking about using extension methods for the appending of attributes also, but the i cannot use the indexer-syntax, also it bloats the interface of the htmltextwriter even more. \n"
          ]
        }
      ]
    },
    {
      "cell_type": "markdown",
      "source": [
        "# Sample Pairs"
      ],
      "metadata": {
        "id": "3-OPUDqHiXBk"
      }
    },
    {
      "cell_type": "code",
      "source": [
        "import numpy as np\n",
        "samples = pd.read_pickle(\"samples_df.pkl\")\n",
        "#embedding = np.loadtxt('embedding.txt', dtype=float)"
      ],
      "metadata": {
        "id": "Z53Vs-oWiVVm"
      },
      "execution_count": null,
      "outputs": []
    },
    {
      "cell_type": "code",
      "source": [
        "from sklearn.model_selection import train_test_split\n",
        "is_pos = samples['label'] == 'positive'\n",
        "\n",
        "neg_samples = samples[~is_pos]\n",
        "pos_samples = samples[is_pos]\n",
        "\n",
        "\n",
        "pos_train_data, pos_test_data = train_test_split(pos_samples, test_size=0.2, random_state=42)\n",
        "\n",
        "print(\"Positive Sample Train set size:\", pos_train_data.shape)\n",
        "print(\"Positive Sample Test set size:\", pos_test_data.shape)\n",
        "\n",
        "neg_train_data, neg_test_data = train_test_split(neg_samples, test_size=0.2, random_state=10)\n",
        "\n",
        "print(\"Negative Sample Train set size:\", neg_train_data.shape)\n",
        "print(\"Negative Sample Test set size:\", neg_test_data.shape)\n",
        "\n",
        "# pd.DataFrame(embedding)\n",
        "neg_train_data"
      ],
      "metadata": {
        "colab": {
          "base_uri": "https://localhost:8080/",
          "height": 495
        },
        "id": "rO8eK72Bixzs",
        "outputId": "dfdd49cf-aa84-4e02-acfa-edf3bd6518e8"
      },
      "execution_count": null,
      "outputs": [
        {
          "output_type": "stream",
          "name": "stdout",
          "text": [
            "Positive Sample Train set size: (4000, 3)\n",
            "Positive Sample Test set size: (1000, 3)\n",
            "Negative Sample Train set size: (4000, 3)\n",
            "Negative Sample Test set size: (1000, 3)\n"
          ]
        },
        {
          "output_type": "execute_result",
          "data": {
            "text/plain": [
              "                 Pair     Score     label\n",
              "2733     (83955, 169) -0.046819  negative\n",
              "447    (90425, 68231)  0.003197  negative\n",
              "970    (53685, 96521) -0.076319  negative\n",
              "125    (35301, 60998)  0.018118  negative\n",
              "798    (54648, 94410)  0.039627  negative\n",
              "...               ...       ...       ...\n",
              "1180   (11788, 52929) -0.032352  negative\n",
              "3441  (67359, 101044)  0.009788  negative\n",
              "1344    (2413, 18027) -0.177910  negative\n",
              "4623   (71729, 16157)  0.007800  negative\n",
              "1289   (46017, 96081)  0.090575  negative\n",
              "\n",
              "[4000 rows x 3 columns]"
            ],
            "text/html": [
              "\n",
              "  <div id=\"df-af9686e9-0cf5-41cf-9c70-0d457ba31111\">\n",
              "    <div class=\"colab-df-container\">\n",
              "      <div>\n",
              "<style scoped>\n",
              "    .dataframe tbody tr th:only-of-type {\n",
              "        vertical-align: middle;\n",
              "    }\n",
              "\n",
              "    .dataframe tbody tr th {\n",
              "        vertical-align: top;\n",
              "    }\n",
              "\n",
              "    .dataframe thead th {\n",
              "        text-align: right;\n",
              "    }\n",
              "</style>\n",
              "<table border=\"1\" class=\"dataframe\">\n",
              "  <thead>\n",
              "    <tr style=\"text-align: right;\">\n",
              "      <th></th>\n",
              "      <th>Pair</th>\n",
              "      <th>Score</th>\n",
              "      <th>label</th>\n",
              "    </tr>\n",
              "  </thead>\n",
              "  <tbody>\n",
              "    <tr>\n",
              "      <th>2733</th>\n",
              "      <td>(83955, 169)</td>\n",
              "      <td>-0.046819</td>\n",
              "      <td>negative</td>\n",
              "    </tr>\n",
              "    <tr>\n",
              "      <th>447</th>\n",
              "      <td>(90425, 68231)</td>\n",
              "      <td>0.003197</td>\n",
              "      <td>negative</td>\n",
              "    </tr>\n",
              "    <tr>\n",
              "      <th>970</th>\n",
              "      <td>(53685, 96521)</td>\n",
              "      <td>-0.076319</td>\n",
              "      <td>negative</td>\n",
              "    </tr>\n",
              "    <tr>\n",
              "      <th>125</th>\n",
              "      <td>(35301, 60998)</td>\n",
              "      <td>0.018118</td>\n",
              "      <td>negative</td>\n",
              "    </tr>\n",
              "    <tr>\n",
              "      <th>798</th>\n",
              "      <td>(54648, 94410)</td>\n",
              "      <td>0.039627</td>\n",
              "      <td>negative</td>\n",
              "    </tr>\n",
              "    <tr>\n",
              "      <th>...</th>\n",
              "      <td>...</td>\n",
              "      <td>...</td>\n",
              "      <td>...</td>\n",
              "    </tr>\n",
              "    <tr>\n",
              "      <th>1180</th>\n",
              "      <td>(11788, 52929)</td>\n",
              "      <td>-0.032352</td>\n",
              "      <td>negative</td>\n",
              "    </tr>\n",
              "    <tr>\n",
              "      <th>3441</th>\n",
              "      <td>(67359, 101044)</td>\n",
              "      <td>0.009788</td>\n",
              "      <td>negative</td>\n",
              "    </tr>\n",
              "    <tr>\n",
              "      <th>1344</th>\n",
              "      <td>(2413, 18027)</td>\n",
              "      <td>-0.177910</td>\n",
              "      <td>negative</td>\n",
              "    </tr>\n",
              "    <tr>\n",
              "      <th>4623</th>\n",
              "      <td>(71729, 16157)</td>\n",
              "      <td>0.007800</td>\n",
              "      <td>negative</td>\n",
              "    </tr>\n",
              "    <tr>\n",
              "      <th>1289</th>\n",
              "      <td>(46017, 96081)</td>\n",
              "      <td>0.090575</td>\n",
              "      <td>negative</td>\n",
              "    </tr>\n",
              "  </tbody>\n",
              "</table>\n",
              "<p>4000 rows × 3 columns</p>\n",
              "</div>\n",
              "      <button class=\"colab-df-convert\" onclick=\"convertToInteractive('df-af9686e9-0cf5-41cf-9c70-0d457ba31111')\"\n",
              "              title=\"Convert this dataframe to an interactive table.\"\n",
              "              style=\"display:none;\">\n",
              "        \n",
              "  <svg xmlns=\"http://www.w3.org/2000/svg\" height=\"24px\"viewBox=\"0 0 24 24\"\n",
              "       width=\"24px\">\n",
              "    <path d=\"M0 0h24v24H0V0z\" fill=\"none\"/>\n",
              "    <path d=\"M18.56 5.44l.94 2.06.94-2.06 2.06-.94-2.06-.94-.94-2.06-.94 2.06-2.06.94zm-11 1L8.5 8.5l.94-2.06 2.06-.94-2.06-.94L8.5 2.5l-.94 2.06-2.06.94zm10 10l.94 2.06.94-2.06 2.06-.94-2.06-.94-.94-2.06-.94 2.06-2.06.94z\"/><path d=\"M17.41 7.96l-1.37-1.37c-.4-.4-.92-.59-1.43-.59-.52 0-1.04.2-1.43.59L10.3 9.45l-7.72 7.72c-.78.78-.78 2.05 0 2.83L4 21.41c.39.39.9.59 1.41.59.51 0 1.02-.2 1.41-.59l7.78-7.78 2.81-2.81c.8-.78.8-2.07 0-2.86zM5.41 20L4 18.59l7.72-7.72 1.47 1.35L5.41 20z\"/>\n",
              "  </svg>\n",
              "      </button>\n",
              "      \n",
              "  <style>\n",
              "    .colab-df-container {\n",
              "      display:flex;\n",
              "      flex-wrap:wrap;\n",
              "      gap: 12px;\n",
              "    }\n",
              "\n",
              "    .colab-df-convert {\n",
              "      background-color: #E8F0FE;\n",
              "      border: none;\n",
              "      border-radius: 50%;\n",
              "      cursor: pointer;\n",
              "      display: none;\n",
              "      fill: #1967D2;\n",
              "      height: 32px;\n",
              "      padding: 0 0 0 0;\n",
              "      width: 32px;\n",
              "    }\n",
              "\n",
              "    .colab-df-convert:hover {\n",
              "      background-color: #E2EBFA;\n",
              "      box-shadow: 0px 1px 2px rgba(60, 64, 67, 0.3), 0px 1px 3px 1px rgba(60, 64, 67, 0.15);\n",
              "      fill: #174EA6;\n",
              "    }\n",
              "\n",
              "    [theme=dark] .colab-df-convert {\n",
              "      background-color: #3B4455;\n",
              "      fill: #D2E3FC;\n",
              "    }\n",
              "\n",
              "    [theme=dark] .colab-df-convert:hover {\n",
              "      background-color: #434B5C;\n",
              "      box-shadow: 0px 1px 3px 1px rgba(0, 0, 0, 0.15);\n",
              "      filter: drop-shadow(0px 1px 2px rgba(0, 0, 0, 0.3));\n",
              "      fill: #FFFFFF;\n",
              "    }\n",
              "  </style>\n",
              "\n",
              "      <script>\n",
              "        const buttonEl =\n",
              "          document.querySelector('#df-af9686e9-0cf5-41cf-9c70-0d457ba31111 button.colab-df-convert');\n",
              "        buttonEl.style.display =\n",
              "          google.colab.kernel.accessAllowed ? 'block' : 'none';\n",
              "\n",
              "        async function convertToInteractive(key) {\n",
              "          const element = document.querySelector('#df-af9686e9-0cf5-41cf-9c70-0d457ba31111');\n",
              "          const dataTable =\n",
              "            await google.colab.kernel.invokeFunction('convertToInteractive',\n",
              "                                                     [key], {});\n",
              "          if (!dataTable) return;\n",
              "\n",
              "          const docLinkHtml = 'Like what you see? Visit the ' +\n",
              "            '<a target=\"_blank\" href=https://colab.research.google.com/notebooks/data_table.ipynb>data table notebook</a>'\n",
              "            + ' to learn more about interactive tables.';\n",
              "          element.innerHTML = '';\n",
              "          dataTable['output_type'] = 'display_data';\n",
              "          await google.colab.output.renderOutput(dataTable, element);\n",
              "          const docLink = document.createElement('div');\n",
              "          docLink.innerHTML = docLinkHtml;\n",
              "          element.appendChild(docLink);\n",
              "        }\n",
              "      </script>\n",
              "    </div>\n",
              "  </div>\n",
              "  "
            ]
          },
          "metadata": {},
          "execution_count": 27
        }
      ]
    },
    {
      "cell_type": "markdown",
      "source": [
        "# Gpt labelling"
      ],
      "metadata": {
        "id": "dr5arCHYW9lw"
      }
    },
    {
      "cell_type": "code",
      "source": [
        "%%capture\n",
        "!pip install openai"
      ],
      "metadata": {
        "id": "x4BhgxFqXOt1"
      },
      "execution_count": null,
      "outputs": []
    },
    {
      "cell_type": "code",
      "source": [
        "from getpass import getpass\n",
        "import openai\n",
        "import os\n",
        "\n",
        "print('Enter OpenAI API key:')\n",
        "openai.api_key = getpass()\n",
        "\n",
        "os.environ['OPENAI_API_KEY']=openai.api_key"
      ],
      "metadata": {
        "colab": {
          "base_uri": "https://localhost:8080/"
        },
        "id": "9RTlERKZfSbK",
        "outputId": "76ab55c8-bedc-47ed-c4f2-23e0dd0ccf41"
      },
      "execution_count": null,
      "outputs": [
        {
          "name": "stdout",
          "output_type": "stream",
          "text": [
            "Enter OpenAI API key:\n",
            "··········\n"
          ]
        }
      ]
    },
    {
      "cell_type": "code",
      "source": [
        "import openai\n",
        "import os\n",
        "import time\n",
        "\n",
        "def generate_subject_few_shot(title1, body1, title2, body2):\n",
        "  few_shot_prompt = \"\"\"On a scale of 1 to 10, how similar are the following 2 questions? \n",
        "1. fluent interface for rendering html - \n",
        "rendering html with the htmltextwriter is not incredibly intuitive in my opinion, but if you are implementing web controls in web forms it is what you have to work with. i thought that it might be possible to create a fluent interface for this that reads a bit more like the html it outputs. i would like to know what people think of the syntax that i have come up with so far.      public void render(htmltextwriter writer)     {         writer             .tag(htmltextwritertag.div, e =&gt; e[htmltextwriterattribute.id, \"id\"][htmltextwriterattribute.name,\"name\"][htmltextwriterattribute.class,\"class\"])                 .tag(htmltextwritertag.span)                     .text(\"lorem\")                 .endtag()                 .tag(htmltextwritertag.span)                     .text(\"ipsum\")                 .endtag()             .endtag();             }   \"tag\", \"text\" and \"endtag\" are extension methods for the htmltextwriter class that returns the instance it takes in so that calls can be chained. the argument passed to the lambda used in the overload used by the first call to \"tag\" is a \"htmlattributemanager\", which is simple class that wraps an htmltextwriter to provide an indexer that takes an htmltextwriterattribute and a string value and returns the instance so that calls can be chained. i also have methods on this class for the most common attributes, such as \"name\", \"class\" and \"id\" so that you could write the first call above as follows:  .tag(htmltextwritertag.div, e =&gt; e.id(\"id\").name(\"name\").class(\"class\"))   a little longer example:  public void render(htmltextwriter writer) {     writer         .tag(htmltextwritertag.div, a =&gt; a.class(\"someclass\", \"someotherclass\"))             .tag(htmltextwritertag.h1).text(\"lorem\").endtag()             .tag(htmltextwritertag.select, t =&gt; t.id(\"fooselect\").name(\"fooselect\").class(\"selectclass\"))                 .tag(htmltextwritertag.option, t =&gt; t[htmltextwriterattribute.value, \"1\"][htmltextwriterattribute.title, \"selects the number 1.\"])                     .text(\"1\")                 .endtag(htmltextwritertag.option)                 .tag(htmltextwritertag.option, t =&gt; t[htmltextwriterattribute.value, \"2\"][htmltextwriterattribute.title, \"selects the number 2.\"])                     .text(\"2\")                 .endtag(htmltextwritertag.option)                 .tag(htmltextwritertag.option, t =&gt; t[htmltextwriterattribute.value, \"3\"][htmltextwriterattribute.title, \"selects the number 3.\"])                     .text(\"3\")                 .endtag(htmltextwritertag.option)             .endtag(htmltextwritertag.select)         .endtag(htmltextwritertag.div); }   hopefully you will be able to \"decipher\" what html this snippet outputs, at least that is the idea.  please give me any thoughts on how the syntax can be improved upon, maybe better method names, maybe some other approach all together.  edit: i thought it might be interesting to see what the same snippet would look like without the use of the fluent interface, for comparison:  public void renderusinghtmltextwriterstandardmethods(htmltextwriter writer) {     writer.addattribute(htmltextwriterattribute.class, \"someclass someotherclass\");     writer.renderbegintag(htmltextwritertag.div);      writer.renderbegintag(htmltextwritertag.h1);     writer.write(\"lorem\");     writer.renderendtag();      writer.addattribute(htmltextwriterattribute.id, \"fooselect\");     writer.addattribute(htmltextwriterattribute.name, \"fooselect\");     writer.addattribute(htmltextwriterattribute.class, \"selectclass\");     writer.renderbegintag(htmltextwritertag.select);      writer.addattribute(htmltextwriterattribute.value, \"1\");     writer.addattribute(htmltextwriterattribute.title, \"selects the number 1.\");     writer.renderbegintag(htmltextwritertag.option);     writer.write(\"1\");     writer.renderendtag();      writer.addattribute(htmltextwriterattribute.value, \"2\");     writer.addattribute(htmltextwriterattribute.title, \"selects the number 2.\");     writer.renderbegintag(htmltextwritertag.option);     writer.write(\"2\");     writer.renderendtag();      writer.addattribute(htmltextwriterattribute.value, \"3\");     writer.addattribute(htmltextwriterattribute.title, \"selects the number 3.\");     writer.renderbegintag(htmltextwritertag.option);     writer.write(\"3\");     writer.renderendtag();      writer.renderendtag();      writer.renderendtag(); }   edit: i should probably be a little more explicit in that one of the goals with this is that it should incur as little overhead as possible, this is why i have limited the use of lambdas. also at first i used a class that represented a tag so that something similar to a dom-tree was built by the syntax before the rendering, the syntax was very similar though. i abandoned this solution for the slight memory overhead it incurs. there are still some of this present in the use of the htmlattributemanager class, i have been thinking about using extension methods for the appending of attributes also, but the i cannot use the indexer-syntax, also it bloats the interface of the htmltextwriter even more. \n",
        "2. why does the sqlserver optimizer get so confused with parameters? - \n",
        "i know this has something to do with parameter sniffing, but i am just perplexed at how something like the following example is even possible with a piece of technology that does so many complex things well.  many of us have run into stored procedures that intermittently run several of orders of magnitude slower than usual, and then if you copy out the sql from the procedure and use the same parameter values in a separate query window, it runs as fast as usual.  i just fixed a procedure like that by converting this:  alter procedure p_myproc (     @param1 int ) as -- do a complex query with @param1   to this:  alter procedure p_myproc (     @param1 int ) as  declare @param1copy int; set @param1copy = @param1;  -- do the query using @param1copy   it went from running in over a minute back down to under one second, like it usually runs.  this behavior seems totally random.  for 9 out of 10 @param1 inputs, the query is fast, regardless of how much data it ends up needing to crunch, or how big the result set it.  but for that 1 out of 10, it just gets lost.  and the fix is to replace an int with the same int in the query?  it makes no sense.  [edit]  @gbn linked to this question, which details a similar problem:    i hesitate to cry \"bug!\" because that is so often a cop-out, but this really does seem like a bug to me.  when i run the two versions of my stored procedure with the same input, i see identical query plans.  the only difference is that the original takes more than a minute to run, and the version with the goofy parameter copying runs instantly. \n",
        "\n",
        "2\n",
        "\n",
        "On a scale of 1 to 10, how similar are the following 2 questions? \n",
        "1. how do I concatenate two lists in Python? - \n",
        "how do I concatenate two lists in Python? Example: listone = [1, 2, 3] listtwo = [4, 5, 6] Expected outcome: >>> joinedlist [1, 2, 3, 4, 5, 6]\n",
        "2. what is the fastest way to merge two lists in python? - \n",
        "Given, list_1 = [1,2,3,4] list_2 = [5,6,7,8] What is the fastest way to achieve the following in python? list = [1,2,3,4,5,6,7,8] Please note that there can be many ways to merge two lists in python. I am looking for the most time-efficient way.\n",
        "\n",
        "9\n",
        "\n",
        "  few_shot_prompt = \"\"\"On a scale of 1 to 10, how similar are the following 2 questions? \n",
        "1. \"\"\"\n",
        "\n",
        "  few_shot_prompt += title1\n",
        "  few_shot_prompt += \"\"\" - \n",
        "\"\"\"\n",
        "  few_shot_prompt += body1\n",
        "  few_shot_prompt += \"\"\"\n",
        "2. \"\"\"\n",
        "  few_shot_prompt += title2\n",
        "  few_shot_prompt += \"\"\" - \n",
        "\"\"\"\n",
        "  few_shot_prompt += body2\n",
        "  few_shot_prompt += \"\"\"\n",
        "  \n",
        "\"\"\"\n",
        "\n",
        "  response = openai.Completion.create(\n",
        "      model=\"text-davinci-003\",\n",
        "      prompt=few_shot_prompt, \n",
        "      temperature=0.0,\n",
        "      max_tokens=1,\n",
        "      top_p=1,\n",
        "      frequency_penalty=0,\n",
        "      presence_penalty=0,\n",
        "      stop=[\"\\n\"]\n",
        "  )\n",
        "\n",
        "  return response['choices'][0]['text'].strip()"
      ],
      "metadata": {
        "id": "FCjdOVyufh7Q"
      },
      "execution_count": null,
      "outputs": []
    },
    {
      "cell_type": "code",
      "source": [
        "responses = []\n",
        "for i in range(len(pos_test_data.index)):\n",
        "  try: \n",
        "    x,y = pos_test_data.iloc[i][\"Pair\"]\n",
        "    title1 = df.iloc[x][\"Title\"]\n",
        "    body1 =  df.iloc[x][\"Clean Body\"]\n",
        "    title2 = df.iloc[y][\"Title\"]\n",
        "    body2 = df.iloc[y][\"Clean Body\"]\n",
        "    response = generate_subject_few_shot(title1, body1, title2, body2)\n",
        "    responses.append(response)\n",
        "  except:\n",
        "    responses.append(\"Invalid input\")\n",
        "\n",
        "print(responses)"
      ],
      "metadata": {
        "colab": {
          "base_uri": "https://localhost:8080/"
        },
        "id": "VcZrGOvixPQO",
        "outputId": "ebcc2f4a-c453-4922-8d1e-76383d2d903a"
      },
      "execution_count": null,
      "outputs": [
        {
          "output_type": "stream",
          "name": "stdout",
          "text": [
            "['3', '3', '5', '2', '7', '5', '7', '7', '7', '7', '7', '3', '3', '3', '3', '7', '3', 'Invalid input', '3', '3', '7', '5', '7', '3', '3', '5', '7', '5', '3', '3', '5', '5', '3', '3', '7', '3', '3', '5', '3', '5', '3', '5', '7', '3', '5', '3', '5', '3', '3', '7', '5', '3', '7', '3', '5', '5', 'Invalid input', '5', '3', '7', '3', '5', '3', '3', '3', '5', '7', '5', '3', '7', '7', '3', '7', '3', '7', '3', 'Invalid input', '7', '7', '3', '7', '7', '3', '3', '7', '5', '', '3', '7', '5', '5', '2', '3', '3', '7', '3', '5', '5', '3', '7', '7', '3', '5', '3', '7', '3', '7', '3', '7', '3', '3', '5', 'Invalid input', '3', '7', '3', 'Invalid input', '3', '5', '3', '3', '7', '3', '7', '7', '5', '3', '3', '3', '7', '5', '7', '7', '7', 'Invalid input', '5', '7', '7', '5', '5', '7', '7', '3', '2', '7', '7', '3', '5', '7', '3', '3', '3', '7', '3', '3', '3', '3', '3', '5', '3', '7', '7', '7', '2', '5', '3', '5', '3', 'Invalid input', '7', '5', '7', '5', '3', '7', '7', '3', '3', '7', '3', '7', '7', '7', '3', '3', '3', '8', '7', '7', '3', '5', '7', '3', '3', '3', '5', '3', '5', '3', '', '7', '7', '7', '7', '7', '5', '3', '5', '7', '3', 'Invalid input', '7', 'Answer', '7', '3', '7', '7', '3', '7', '3', '3', '3', '7', '7', '7', '3', '7', '3', '5', '7', '7', '7', '7', '7', '3', '7', 'Invalid input', '3', '3', '7', '5', '7', '3', '3', '7', '3', '3', '3', '7', '7', '3', '5', '7', '3', '3', '7', '7', '7', '5', '3', '3', '3', '3', '3', '3', '3', '7', '3', '7', '7', '3', '3', '3', '3', '7', '7', '2', '5', '7', '7', '7', '5', '7', '7', '7', '5', '7', '7', '3', '2', '3', '7', '5', '3', '7', '5', '5', '5', '7', '3', 'Private', '3', '7', '7', '3', '3', '7', '3', '7', '3', '7', '3', '7', '7', '3', '', '7', '3', '7', '5', '5', '3', '7', '5', '5', '5', '5', '3', '7', '7', '3', '5', '3', '5', 'Invalid input', '7', '7', '7', '5', '7', '7', '2', '3', '3', '5', '7', '7', '3', '7', '7', '5', '3', '3', '7', '3', '7', '5', '3', '7', '3', '7', '7', '7', '3', '3', '3', '7', '5', '7', '3', '5', '3', '5', '7', '7', '7', '5', '3', '5', '7', '7', '3', '3', '7', '7', '8', '7', '7', '7', '7', '7', '3', '7', '3', '5', '7', '9', '5', '5', '3', '3', '7', '3', '5', '3', '3', '3', '3', '3', 'Invalid input', '3', '7', '3', '3', '3', '3', '7', '3', '3', '5', '7', '3', '7', '7', '3', '3', '3', '2', '5', '3', '3', '7', '7', '3', '3', '7', '5', '7', '7', '5', '3', '3', 'Invalid input', '5', '3', '3', '7', '7', '', '7', '2', '5', 'Invalid input', '3', '3', '7', '7', '7', '3', '5', '7', '7', '7', '7', '5', '3', '3', '7', '7', '7', '7', '5', '3', '7', '7', '7', '5', '7', '7', '5', '7', '5', '5', '7', '5', '3', '7', '3', '7', '7', '5', '3', '5', '3', 'Invalid input', '7', '3', '5', '5', '7', '3', '7', '3', '3', '3', '7', '2', '5', '3', '3', '5', '7', '3', '3', '7', '3', '3', '3', '7', '5', '7', '3', '2', '3', '7', '5', '3', '3', '3', '5', '7', '5', '7', '7', '3', '3', '3', '5', '7', '5', '7', '3', '7', '7', '7', '3', '5', '8', '3', '7', '3', '3', '3', '7', '5', '7', '3', '3', '5', '7', '5', '3', '3', '3', '7', '7', 'Invalid input', '3', '5', '7', '7', '7', '7', '7', '5', '5', '3', '3', '', '3', '7', '7', '7', '5', '5', '7', '3', '3', '5', '5', '5', '7', '3', '3', '7', '1', '5', 'Invalid input', '3', '5', '5', '5', 'Invalid input', '7', '7', '7', '7', '7', '3', '7', '7', '2', '7', '5', '7', '5', '2', '7', '3', '7', '7', '', '3', '7', '7', '3', '5', '7', '7', '3', '3', '3', '3', '7', '7', '7', '8', '3', '5', '3', '7', '7', '3', '2', '3', '3', '1', '', '3', '3', 'Invalid input', '5', 'Invalid input', '9', '7', '3', '7', '3', '7', '7', '3', '3', '7', '3', '7', '5', '7', '7', '7', '3', '3', '3', '7', '3', '3', '7', '3', '7', 'Invalid input', '5', '3', '7', '5', '3', '3', '7', '3', '3', '5', '1', '7', '7', '3', '7', '7', '7', '3', '3', '5', '3', '5', '7', '3', '7', '3', '2', '3', '7', '3', '3', '5', '7', '3', '7', '1', '2', '7', '3', '3', '7', '7', '5', '3', '5', '5', 'Invalid input', '3', '3', '3', '7', '5', '7', '8', '3', '3', '3', '3', '3', '7', '5', '5', '3', '7', '5', '7', '7', '7', '7', '7', '7', '7', '3', '', '3', '7', 'Invalid input', '3', '3', '7', '3', '3', '5', '7', '7', '8', '3', '7', '3', '7', '3', '3', '3', '3', '7', '7', '3', '3', '5', '3', '3', '', '3', '7', '7', '7', '5', '3', '5', '7', '7', '5', '7', '5', '5', '3', '3', '5', '3', '7', '3', '3', '7', '3', 'Invalid input', '3', '7', '5', '3', '', '7', '3', '5', '7', '7', '3', '7', '7', '7', '3', '2', '7', '5', '7', '3', '3', '1', '3', '7', '7', '7', '5', '5', '5', '7', '7', '3', '3', '3', '5', '7', '7', '3', 'Invalid input', 'Invalid input', 'Invalid input', '3', '3', '7', '3', '5', '3', '7', '7', '7', '5', '3', '7', '5', '8', '7', '', '7', '3', '7', '3', '5', '7', '3', '7', 'Invalid input', '3', '7', '3', '3', '7', '3', '3', '5', '3', '5', '3', '7', '3', '7', '', '3', '7', '7', '7', '5', '3', '7', 'Invalid input', '7', '5', '5', '7', '7', '3', '7', '3', '7', '5', '8', '2', '7', '5', '3', '7', '5', '3', '7', 'Invalid input', '7', '3', '7', '5', '5', '3', '5', '5', '5', '5', '7', '7', '3', '7', '7', '5', '5', '5', '3', '5', '3', '7', '5', '7', '7', '7', '7', '7', '5', '7', '3', '7', '3', 'Invalid input', '7', '3', '7', '7', '3', '3', '5', '7', '5', '7', '7', '5', '7', '3', '', '7', '3', '3', '5', '5', '7', '3', '5', '7', '7', '7', '3', '7', '7', '3', '3', '3', '5', '7', '3', '5', '7', 'Invalid input', '7', '5', '5', '5', 'Invalid input', '7', '', '7', 'Invalid input', '7', '7', '7', '5', '3', '7']\n"
          ]
        }
      ]
    },
    {
      "cell_type": "code",
      "source": [
        "pos_test_data[\"gpt_rating\"] = responses\n",
        "pos_test_data"
      ],
      "metadata": {
        "colab": {
          "base_uri": "https://localhost:8080/",
          "height": 424
        },
        "id": "Y7l8_eUG2MIC",
        "outputId": "f28ee08b-5c5b-4290-8877-843c40338af0"
      },
      "execution_count": null,
      "outputs": [
        {
          "output_type": "execute_result",
          "data": {
            "text/plain": [
              "                Pair     Score     label gpt_rating\n",
              "1501  (35111, 49250)  0.691599  positive          3\n",
              "2586  (48244, 85640)  0.712601  positive          3\n",
              "2653  (71229, 14783)  0.641667  positive          5\n",
              "1055  (42101, 15042)  0.539217  positive          2\n",
              "705    (4748, 70103)  0.684667  positive          7\n",
              "...              ...       ...       ...        ...\n",
              "4711  (90239, 69172)  0.605178  positive          7\n",
              "2313  (24596, 31426)  0.753308  positive          7\n",
              "3214   (51578, 6671)  0.683303  positive          5\n",
              "2732  (23472, 14134)  0.577998  positive          3\n",
              "1926   (47837, 7401)  0.609931  positive          7\n",
              "\n",
              "[1000 rows x 4 columns]"
            ],
            "text/html": [
              "\n",
              "  <div id=\"df-af8d6981-c79c-478f-9226-7c5ee456a819\">\n",
              "    <div class=\"colab-df-container\">\n",
              "      <div>\n",
              "<style scoped>\n",
              "    .dataframe tbody tr th:only-of-type {\n",
              "        vertical-align: middle;\n",
              "    }\n",
              "\n",
              "    .dataframe tbody tr th {\n",
              "        vertical-align: top;\n",
              "    }\n",
              "\n",
              "    .dataframe thead th {\n",
              "        text-align: right;\n",
              "    }\n",
              "</style>\n",
              "<table border=\"1\" class=\"dataframe\">\n",
              "  <thead>\n",
              "    <tr style=\"text-align: right;\">\n",
              "      <th></th>\n",
              "      <th>Pair</th>\n",
              "      <th>Score</th>\n",
              "      <th>label</th>\n",
              "      <th>gpt_rating</th>\n",
              "    </tr>\n",
              "  </thead>\n",
              "  <tbody>\n",
              "    <tr>\n",
              "      <th>1501</th>\n",
              "      <td>(35111, 49250)</td>\n",
              "      <td>0.691599</td>\n",
              "      <td>positive</td>\n",
              "      <td>3</td>\n",
              "    </tr>\n",
              "    <tr>\n",
              "      <th>2586</th>\n",
              "      <td>(48244, 85640)</td>\n",
              "      <td>0.712601</td>\n",
              "      <td>positive</td>\n",
              "      <td>3</td>\n",
              "    </tr>\n",
              "    <tr>\n",
              "      <th>2653</th>\n",
              "      <td>(71229, 14783)</td>\n",
              "      <td>0.641667</td>\n",
              "      <td>positive</td>\n",
              "      <td>5</td>\n",
              "    </tr>\n",
              "    <tr>\n",
              "      <th>1055</th>\n",
              "      <td>(42101, 15042)</td>\n",
              "      <td>0.539217</td>\n",
              "      <td>positive</td>\n",
              "      <td>2</td>\n",
              "    </tr>\n",
              "    <tr>\n",
              "      <th>705</th>\n",
              "      <td>(4748, 70103)</td>\n",
              "      <td>0.684667</td>\n",
              "      <td>positive</td>\n",
              "      <td>7</td>\n",
              "    </tr>\n",
              "    <tr>\n",
              "      <th>...</th>\n",
              "      <td>...</td>\n",
              "      <td>...</td>\n",
              "      <td>...</td>\n",
              "      <td>...</td>\n",
              "    </tr>\n",
              "    <tr>\n",
              "      <th>4711</th>\n",
              "      <td>(90239, 69172)</td>\n",
              "      <td>0.605178</td>\n",
              "      <td>positive</td>\n",
              "      <td>7</td>\n",
              "    </tr>\n",
              "    <tr>\n",
              "      <th>2313</th>\n",
              "      <td>(24596, 31426)</td>\n",
              "      <td>0.753308</td>\n",
              "      <td>positive</td>\n",
              "      <td>7</td>\n",
              "    </tr>\n",
              "    <tr>\n",
              "      <th>3214</th>\n",
              "      <td>(51578, 6671)</td>\n",
              "      <td>0.683303</td>\n",
              "      <td>positive</td>\n",
              "      <td>5</td>\n",
              "    </tr>\n",
              "    <tr>\n",
              "      <th>2732</th>\n",
              "      <td>(23472, 14134)</td>\n",
              "      <td>0.577998</td>\n",
              "      <td>positive</td>\n",
              "      <td>3</td>\n",
              "    </tr>\n",
              "    <tr>\n",
              "      <th>1926</th>\n",
              "      <td>(47837, 7401)</td>\n",
              "      <td>0.609931</td>\n",
              "      <td>positive</td>\n",
              "      <td>7</td>\n",
              "    </tr>\n",
              "  </tbody>\n",
              "</table>\n",
              "<p>1000 rows × 4 columns</p>\n",
              "</div>\n",
              "      <button class=\"colab-df-convert\" onclick=\"convertToInteractive('df-af8d6981-c79c-478f-9226-7c5ee456a819')\"\n",
              "              title=\"Convert this dataframe to an interactive table.\"\n",
              "              style=\"display:none;\">\n",
              "        \n",
              "  <svg xmlns=\"http://www.w3.org/2000/svg\" height=\"24px\"viewBox=\"0 0 24 24\"\n",
              "       width=\"24px\">\n",
              "    <path d=\"M0 0h24v24H0V0z\" fill=\"none\"/>\n",
              "    <path d=\"M18.56 5.44l.94 2.06.94-2.06 2.06-.94-2.06-.94-.94-2.06-.94 2.06-2.06.94zm-11 1L8.5 8.5l.94-2.06 2.06-.94-2.06-.94L8.5 2.5l-.94 2.06-2.06.94zm10 10l.94 2.06.94-2.06 2.06-.94-2.06-.94-.94-2.06-.94 2.06-2.06.94z\"/><path d=\"M17.41 7.96l-1.37-1.37c-.4-.4-.92-.59-1.43-.59-.52 0-1.04.2-1.43.59L10.3 9.45l-7.72 7.72c-.78.78-.78 2.05 0 2.83L4 21.41c.39.39.9.59 1.41.59.51 0 1.02-.2 1.41-.59l7.78-7.78 2.81-2.81c.8-.78.8-2.07 0-2.86zM5.41 20L4 18.59l7.72-7.72 1.47 1.35L5.41 20z\"/>\n",
              "  </svg>\n",
              "      </button>\n",
              "      \n",
              "  <style>\n",
              "    .colab-df-container {\n",
              "      display:flex;\n",
              "      flex-wrap:wrap;\n",
              "      gap: 12px;\n",
              "    }\n",
              "\n",
              "    .colab-df-convert {\n",
              "      background-color: #E8F0FE;\n",
              "      border: none;\n",
              "      border-radius: 50%;\n",
              "      cursor: pointer;\n",
              "      display: none;\n",
              "      fill: #1967D2;\n",
              "      height: 32px;\n",
              "      padding: 0 0 0 0;\n",
              "      width: 32px;\n",
              "    }\n",
              "\n",
              "    .colab-df-convert:hover {\n",
              "      background-color: #E2EBFA;\n",
              "      box-shadow: 0px 1px 2px rgba(60, 64, 67, 0.3), 0px 1px 3px 1px rgba(60, 64, 67, 0.15);\n",
              "      fill: #174EA6;\n",
              "    }\n",
              "\n",
              "    [theme=dark] .colab-df-convert {\n",
              "      background-color: #3B4455;\n",
              "      fill: #D2E3FC;\n",
              "    }\n",
              "\n",
              "    [theme=dark] .colab-df-convert:hover {\n",
              "      background-color: #434B5C;\n",
              "      box-shadow: 0px 1px 3px 1px rgba(0, 0, 0, 0.15);\n",
              "      filter: drop-shadow(0px 1px 2px rgba(0, 0, 0, 0.3));\n",
              "      fill: #FFFFFF;\n",
              "    }\n",
              "  </style>\n",
              "\n",
              "      <script>\n",
              "        const buttonEl =\n",
              "          document.querySelector('#df-af8d6981-c79c-478f-9226-7c5ee456a819 button.colab-df-convert');\n",
              "        buttonEl.style.display =\n",
              "          google.colab.kernel.accessAllowed ? 'block' : 'none';\n",
              "\n",
              "        async function convertToInteractive(key) {\n",
              "          const element = document.querySelector('#df-af8d6981-c79c-478f-9226-7c5ee456a819');\n",
              "          const dataTable =\n",
              "            await google.colab.kernel.invokeFunction('convertToInteractive',\n",
              "                                                     [key], {});\n",
              "          if (!dataTable) return;\n",
              "\n",
              "          const docLinkHtml = 'Like what you see? Visit the ' +\n",
              "            '<a target=\"_blank\" href=https://colab.research.google.com/notebooks/data_table.ipynb>data table notebook</a>'\n",
              "            + ' to learn more about interactive tables.';\n",
              "          element.innerHTML = '';\n",
              "          dataTable['output_type'] = 'display_data';\n",
              "          await google.colab.output.renderOutput(dataTable, element);\n",
              "          const docLink = document.createElement('div');\n",
              "          docLink.innerHTML = docLinkHtml;\n",
              "          element.appendChild(docLink);\n",
              "        }\n",
              "      </script>\n",
              "    </div>\n",
              "  </div>\n",
              "  "
            ]
          },
          "metadata": {},
          "execution_count": 135
        }
      ]
    },
    {
      "cell_type": "code",
      "source": [
        "positive_data = pos_test_data[pos_test_data['gpt_rating'] != 'Invalid input']\n",
        "positive_data = positive_data[positive_data['gpt_rating'] != 'Answer']\n",
        "positive_data = positive_data[positive_data['gpt_rating'] != 'Private']"
      ],
      "metadata": {
        "id": "LYO76IZc3HGZ"
      },
      "execution_count": null,
      "outputs": []
    },
    {
      "cell_type": "code",
      "source": [
        "positive_data[\"gpt_rating\"] = pd.to_numeric(positive_data[\"gpt_rating\"])\n",
        "positive_data.head()"
      ],
      "metadata": {
        "colab": {
          "base_uri": "https://localhost:8080/",
          "height": 206
        },
        "id": "gjZCBWp0341L",
        "outputId": "dca54b1d-45d9-4cb4-bde3-cd7c15ce1a5f"
      },
      "execution_count": null,
      "outputs": [
        {
          "output_type": "execute_result",
          "data": {
            "text/plain": [
              "                Pair     Score     label  gpt_rating\n",
              "1501  (35111, 49250)  0.691599  positive         3.0\n",
              "2586  (48244, 85640)  0.712601  positive         3.0\n",
              "2653  (71229, 14783)  0.641667  positive         5.0\n",
              "1055  (42101, 15042)  0.539217  positive         2.0\n",
              "705    (4748, 70103)  0.684667  positive         7.0"
            ],
            "text/html": [
              "\n",
              "  <div id=\"df-0eecb993-dd42-485c-9591-eef6780df7a3\">\n",
              "    <div class=\"colab-df-container\">\n",
              "      <div>\n",
              "<style scoped>\n",
              "    .dataframe tbody tr th:only-of-type {\n",
              "        vertical-align: middle;\n",
              "    }\n",
              "\n",
              "    .dataframe tbody tr th {\n",
              "        vertical-align: top;\n",
              "    }\n",
              "\n",
              "    .dataframe thead th {\n",
              "        text-align: right;\n",
              "    }\n",
              "</style>\n",
              "<table border=\"1\" class=\"dataframe\">\n",
              "  <thead>\n",
              "    <tr style=\"text-align: right;\">\n",
              "      <th></th>\n",
              "      <th>Pair</th>\n",
              "      <th>Score</th>\n",
              "      <th>label</th>\n",
              "      <th>gpt_rating</th>\n",
              "    </tr>\n",
              "  </thead>\n",
              "  <tbody>\n",
              "    <tr>\n",
              "      <th>1501</th>\n",
              "      <td>(35111, 49250)</td>\n",
              "      <td>0.691599</td>\n",
              "      <td>positive</td>\n",
              "      <td>3.0</td>\n",
              "    </tr>\n",
              "    <tr>\n",
              "      <th>2586</th>\n",
              "      <td>(48244, 85640)</td>\n",
              "      <td>0.712601</td>\n",
              "      <td>positive</td>\n",
              "      <td>3.0</td>\n",
              "    </tr>\n",
              "    <tr>\n",
              "      <th>2653</th>\n",
              "      <td>(71229, 14783)</td>\n",
              "      <td>0.641667</td>\n",
              "      <td>positive</td>\n",
              "      <td>5.0</td>\n",
              "    </tr>\n",
              "    <tr>\n",
              "      <th>1055</th>\n",
              "      <td>(42101, 15042)</td>\n",
              "      <td>0.539217</td>\n",
              "      <td>positive</td>\n",
              "      <td>2.0</td>\n",
              "    </tr>\n",
              "    <tr>\n",
              "      <th>705</th>\n",
              "      <td>(4748, 70103)</td>\n",
              "      <td>0.684667</td>\n",
              "      <td>positive</td>\n",
              "      <td>7.0</td>\n",
              "    </tr>\n",
              "  </tbody>\n",
              "</table>\n",
              "</div>\n",
              "      <button class=\"colab-df-convert\" onclick=\"convertToInteractive('df-0eecb993-dd42-485c-9591-eef6780df7a3')\"\n",
              "              title=\"Convert this dataframe to an interactive table.\"\n",
              "              style=\"display:none;\">\n",
              "        \n",
              "  <svg xmlns=\"http://www.w3.org/2000/svg\" height=\"24px\"viewBox=\"0 0 24 24\"\n",
              "       width=\"24px\">\n",
              "    <path d=\"M0 0h24v24H0V0z\" fill=\"none\"/>\n",
              "    <path d=\"M18.56 5.44l.94 2.06.94-2.06 2.06-.94-2.06-.94-.94-2.06-.94 2.06-2.06.94zm-11 1L8.5 8.5l.94-2.06 2.06-.94-2.06-.94L8.5 2.5l-.94 2.06-2.06.94zm10 10l.94 2.06.94-2.06 2.06-.94-2.06-.94-.94-2.06-.94 2.06-2.06.94z\"/><path d=\"M17.41 7.96l-1.37-1.37c-.4-.4-.92-.59-1.43-.59-.52 0-1.04.2-1.43.59L10.3 9.45l-7.72 7.72c-.78.78-.78 2.05 0 2.83L4 21.41c.39.39.9.59 1.41.59.51 0 1.02-.2 1.41-.59l7.78-7.78 2.81-2.81c.8-.78.8-2.07 0-2.86zM5.41 20L4 18.59l7.72-7.72 1.47 1.35L5.41 20z\"/>\n",
              "  </svg>\n",
              "      </button>\n",
              "      \n",
              "  <style>\n",
              "    .colab-df-container {\n",
              "      display:flex;\n",
              "      flex-wrap:wrap;\n",
              "      gap: 12px;\n",
              "    }\n",
              "\n",
              "    .colab-df-convert {\n",
              "      background-color: #E8F0FE;\n",
              "      border: none;\n",
              "      border-radius: 50%;\n",
              "      cursor: pointer;\n",
              "      display: none;\n",
              "      fill: #1967D2;\n",
              "      height: 32px;\n",
              "      padding: 0 0 0 0;\n",
              "      width: 32px;\n",
              "    }\n",
              "\n",
              "    .colab-df-convert:hover {\n",
              "      background-color: #E2EBFA;\n",
              "      box-shadow: 0px 1px 2px rgba(60, 64, 67, 0.3), 0px 1px 3px 1px rgba(60, 64, 67, 0.15);\n",
              "      fill: #174EA6;\n",
              "    }\n",
              "\n",
              "    [theme=dark] .colab-df-convert {\n",
              "      background-color: #3B4455;\n",
              "      fill: #D2E3FC;\n",
              "    }\n",
              "\n",
              "    [theme=dark] .colab-df-convert:hover {\n",
              "      background-color: #434B5C;\n",
              "      box-shadow: 0px 1px 3px 1px rgba(0, 0, 0, 0.15);\n",
              "      filter: drop-shadow(0px 1px 2px rgba(0, 0, 0, 0.3));\n",
              "      fill: #FFFFFF;\n",
              "    }\n",
              "  </style>\n",
              "\n",
              "      <script>\n",
              "        const buttonEl =\n",
              "          document.querySelector('#df-0eecb993-dd42-485c-9591-eef6780df7a3 button.colab-df-convert');\n",
              "        buttonEl.style.display =\n",
              "          google.colab.kernel.accessAllowed ? 'block' : 'none';\n",
              "\n",
              "        async function convertToInteractive(key) {\n",
              "          const element = document.querySelector('#df-0eecb993-dd42-485c-9591-eef6780df7a3');\n",
              "          const dataTable =\n",
              "            await google.colab.kernel.invokeFunction('convertToInteractive',\n",
              "                                                     [key], {});\n",
              "          if (!dataTable) return;\n",
              "\n",
              "          const docLinkHtml = 'Like what you see? Visit the ' +\n",
              "            '<a target=\"_blank\" href=https://colab.research.google.com/notebooks/data_table.ipynb>data table notebook</a>'\n",
              "            + ' to learn more about interactive tables.';\n",
              "          element.innerHTML = '';\n",
              "          dataTable['output_type'] = 'display_data';\n",
              "          await google.colab.output.renderOutput(dataTable, element);\n",
              "          const docLink = document.createElement('div');\n",
              "          docLink.innerHTML = docLinkHtml;\n",
              "          element.appendChild(docLink);\n",
              "        }\n",
              "      </script>\n",
              "    </div>\n",
              "  </div>\n",
              "  "
            ]
          },
          "metadata": {},
          "execution_count": 147
        }
      ]
    },
    {
      "cell_type": "code",
      "source": [
        "positive_data[\"gpt_rating\"].mean()"
      ],
      "metadata": {
        "colab": {
          "base_uri": "https://localhost:8080/"
        },
        "id": "8tqbaEDz4cII",
        "outputId": "48d6dd45-dabd-4e86-c000-e2111a126ad9"
      },
      "execution_count": null,
      "outputs": [
        {
          "output_type": "execute_result",
          "data": {
            "text/plain": [
              "4.991587802313354"
            ]
          },
          "metadata": {},
          "execution_count": 148
        }
      ]
    },
    {
      "cell_type": "code",
      "source": [
        "positive_data.to_csv('positive_rated_samples.csv')"
      ],
      "metadata": {
        "id": "7V3iUR6R5tFV"
      },
      "execution_count": null,
      "outputs": []
    },
    {
      "cell_type": "code",
      "source": [
        "responses = []\n",
        "for i in range(len(neg_test_data.index)):\n",
        "  try: \n",
        "    x,y = neg_test_data.iloc[i][\"Pair\"]\n",
        "    title1 = df.iloc[x][\"Title\"]\n",
        "    body1 =  df.iloc[x][\"Clean Body\"]\n",
        "    title2 = df.iloc[y][\"Title\"]\n",
        "    body2 = df.iloc[y][\"Clean Body\"]\n",
        "    response = generate_subject_few_shot(title1, body1, title2, body2)\n",
        "    responses.append(response)\n",
        "  except:\n",
        "    responses.append(\"Invalid input\")\n",
        "\n",
        "print(responses)"
      ],
      "metadata": {
        "colab": {
          "base_uri": "https://localhost:8080/"
        },
        "id": "XUrw81vS6c6S",
        "outputId": "60626ff6-d411-4208-8320-57f1294fc875"
      },
      "execution_count": null,
      "outputs": [
        {
          "output_type": "stream",
          "name": "stdout",
          "text": [
            "['2', '2', '1', '5', '3', '7', '5', '7', '3', '3', '7', '3', '3', '', '3', '3', '5', '2', '7', '7', '3', '7', '2', '3', '5', '7', '3', '3', '2', '7', '3', '3', '3', '7', '3', '7', '3', '3', '5', '3', '3', '7', '2', '2', '3', '3', '7', '7', '2', '7', '7', '3', '3', '7', '5', '2', '2', '7', '3', '7', '7', '3', '7', '3', '5', '3', 'Invalid input', '3', '3', '3', '3', '2', '2', '3', '3', '5', '3', 'Invalid input', '7', '3', '3', '7', '3', '5', '5', '3', '3', '3', '3', '5', '3', '7', '5', '5', '3', '3', '7', '3', '5', '1', '3', '5', '7', '3', '3', '3', '7', '3', '5', '3', '1', 'Invalid input', '5', '7', '7', '3', '3', '1', '3', '3', '3', '7', '3', '3', '3', '3', '2', '7', '3', '5', '3', '3', 'Invalid input', '7', '5', '1', '3', '3', '3', '3', '3', '7', '3', '3', '5', '5', '3', '7', '3', '3', '3', '7', '3', '2', '7', '3', '7', '3', '5', '7', '5', '5', '3', '5', '3', '7', '7', '3', '3', '3', '2', '5', '5', '3', '3', '3', '5', '3', '3', '3', '7', '3', '3', '7', '3', '3', '3', '5', '3', '5', '7', '3', '7', '5', '7', '3', '3', '3', '3', '5', '3', '3', '3', '2', '3', '7', '3', '7', '3', '1', '3', '3', '7', '3', '7', '3', '7', '3', '7', '7', '7', '3', '2', '3', '3', 'Invalid input', '7', '3', '3', '2', '2', '3', '3', '5', '3', '3', '7', '3', '1', '3', '5', '2', '', '3', '7', '3', '3', '3', '3', '3', '7', '3', '7', '3', '3', '3', '3', '7', '3', '3', '5', '1', '7', '3', '3', '7', '7', '3', '3', '5', '7', '3', '7', '7', '7', '7', '5', '2', '3', '3', '3', '3', '3', '3', '3', '4', '5', '3', '3', '3', '3', '5', '3', '3', '7', '7', '5', '3', '3', '1', '7', '3', '3', '3', '7', '3', '5', '3', '7', '3', '7', '7', '3', '7', '5', '3', '7', '7', '5', '7', '7', '3', '2', '3', '3', '3', '3', '7', '5', '3', '3', '3', '3', '1', '5', '1', '3', '3', '3', '2', '2', '3', '2', '5', '3', 'Invalid input', '3', '3', '5', '3', '5', '2', '3', '3', '3', '3', '3', '3', '1', '3', '3', '3', '3', '7', '7', '2', '5', '3', '5', '5', '5', '2', '5', '3', '5', '3', '5', '5', '3', '7', '3', '7', '7', '3', '7', '5', '7', '5', '7', '3', '5', '5', '3', '3', '3', '7', '7', '3', '3', '2', '3', '7', '1', '1', '3', '3', '3', '5', '3', '2', '3', '3', '3', '7', '3', '3', '1', '3', '7', '7', '3', '5', '7', '3', '7', '3', '3', '7', '2', '7', '2', '3', '3', '5', '3', '7', '3', '3', '7', '3', '7', '7', '7', '5', '3', '2', '3', '3', '3', '3', '3', '3', '2', '3', '5', '2', '7', '3', '7', '7', '5', '7', '3', '2', '7', '7', '2', '3', '3', '3', '7', '5', '3', '3', '7', '3', '3', '5', '1', '3', '7', '3', '5', '5', '3', '3', '7', '3', '7', '3', '1', '5', '1', '7', '5', 'Invalid input', '3', '5', '5', '3', '7', '5', '5', '3', '7', '7', '3', '3', '5', '5', '3', '5', '3', '2', '7', '2', '7', '7', '3', '3', '3', '5', '7', '3', '7', '3', '3', '2', '7', '3', '7', '3', '2', '3', '2', '5', '7', '3', '3', '5', 'I', '3', '3', '3', '3', '5', '5', '5', '5', '2', '3', '7', 'Invalid input', '1', '', '5', '5', '3', '5', '2', '3', '5', '7', '7', '2', '3', '5', '5', '7', '3', '3', '3', '3', '5', '7', '7', '3', '5', '7', '3', '3', '2', '3', '3', '3', 'Invalid input', '7', '3', '7', '3', '5', '5', '7', '7', '1', '3', '5', '3', '3', '7', '5', '3', '3', 'Invalid input', '3', '7', '3', '1', '3', '', '3', '7', '3', '3', '5', '7', '7', '5', '7', '1', '1', '3', '5', '7', '3', '7', '7', '7', '7', '7', '5', '3', 'Invalid input', '3', '5', '7', '3', '3', '1', '2', '3', '5', '7', '3', '3', '7', '3', '7', '3', '5', '3', '3', '3', '3', '3', '3', '3', '7', '3', '3', '5', '3', '3', '7', '7', '5', '3', '7', '3', 'Invalid input', '7', '1', '5', '3', '7', '3', '3', '7', '3', '3', '3', 'Invalid input', '3', '3', '5', '3', '5', '7', '3', 'Invalid input', '3', '3', '3', '3', '3', '3', '3', '3', '3', '3', '3', '3', '3', '3', '3', '7', '7', '7', '7', '3', '5', '3', '7', '7', '2', '3', '3', '5', '3', '3', '3', '3', '3', '3', '5', '7', '3', '5', '3', '3', '3', '3', '7', '5', '3', '2', '5', '3', '3', '2', '1', '5', '3', '3', '3', '5', '3', '3', '3', '3', '5', '3', '3', '7', '5', '3', '7', '', '5', '5', '1', '3', '1', '3', '7', '3', '5', '5', '2', '2', '3', '7', '3', '7', '3', '3', '3', '3', '7', 'Invalid input', '5', '3', '7', '3', '3', '3', '7', '7', '7', '5', '7', '3', '3', '7', '1', '5', '7', '3', '3', '7', 'Invalid input', 'Invalid input', '3', '3', '7', '3', '7', '5', 'Invalid input', '7', '3', '3', '3', '5', '3', '5', '7', '5', '5', '2', '3', '7', '3', 'Invalid input', '1', '3', '3', '3', '3', '7', '3', '3', '7', '7', '3', '3', '7', '3', '2', '3', '5', '1', '3', '3', '2', '1', '3', '3', '7', '3', '5', '2', '1', '3', '3', '3', '5', '7', '3', '3', '5', '5', '5', '3', '5', '7', '3', '3', '3', 'Invalid input', '3', '7', '2', '1', '3', '3', '3', '3', '3', '3', '3', '3', '2', '3', '5', '7', '3', '3', '1', '3', '3', '3', '2', '3', '5', '3', '7', '7', '5', '3', '7', '7', '1', '3', '3', '7', '3', '3', '3', '5', '3', '3', '3', '3', '', '7', '7', '7', '3', '2', '3', '7', '1', '7', '5', '5', '3', '3', '7', '3', '5', '3', '3', '7', '7', '3', '3', '3', '3', '5', '3', '3', '3', '7', '5', '3', '7', '5', '3', '1', '3', 'Invalid input', '5', '3', '7', '3', '7', '3', '7', '3', '3', 'Invalid input', '3', '7', '3', '3', '3', '7', '3', '3', '3', '3', '7', '7', '3', '3', '3', '7', '5', '5', '7', '7', '3', '5', '2', '3', '3', '1', '3', '7', '3', '3', '3', '3', 'Invalid input', '3', '1', '5', '5', '7']\n"
          ]
        }
      ]
    },
    {
      "cell_type": "code",
      "source": [
        "neg_test_data[\"gpt_rating\"] = responses\n",
        "neg_test_data"
      ],
      "metadata": {
        "colab": {
          "base_uri": "https://localhost:8080/",
          "height": 424
        },
        "id": "R-nx01nq6mv2",
        "outputId": "43b347f9-1112-45d5-b4b7-eee07c10e4df"
      },
      "execution_count": null,
      "outputs": [
        {
          "output_type": "execute_result",
          "data": {
            "text/plain": [
              "                Pair     Score     label gpt_rating\n",
              "245   (20319, 30685)  0.209722  negative          2\n",
              "4493  (32924, 95231)  0.027976  negative          2\n",
              "4583  (26670, 59665)  0.091165  negative          1\n",
              "2242  (46270, 41224) -0.034114  negative          5\n",
              "3407  (12025, 95439)  0.043746  negative          3\n",
              "...              ...       ...       ...        ...\n",
              "877   (48921, 64267) -0.065769  negative          3\n",
              "1314  (97489, 35242)  0.088573  negative          1\n",
              "2344  (83133, 11184)  0.009395  negative          5\n",
              "2717  (39518, 99459)  0.295015  negative          5\n",
              "4662  (34184, 62662)  0.224170  negative          7\n",
              "\n",
              "[1000 rows x 4 columns]"
            ],
            "text/html": [
              "\n",
              "  <div id=\"df-521968f7-6df3-4185-96c8-d9e20faa4375\">\n",
              "    <div class=\"colab-df-container\">\n",
              "      <div>\n",
              "<style scoped>\n",
              "    .dataframe tbody tr th:only-of-type {\n",
              "        vertical-align: middle;\n",
              "    }\n",
              "\n",
              "    .dataframe tbody tr th {\n",
              "        vertical-align: top;\n",
              "    }\n",
              "\n",
              "    .dataframe thead th {\n",
              "        text-align: right;\n",
              "    }\n",
              "</style>\n",
              "<table border=\"1\" class=\"dataframe\">\n",
              "  <thead>\n",
              "    <tr style=\"text-align: right;\">\n",
              "      <th></th>\n",
              "      <th>Pair</th>\n",
              "      <th>Score</th>\n",
              "      <th>label</th>\n",
              "      <th>gpt_rating</th>\n",
              "    </tr>\n",
              "  </thead>\n",
              "  <tbody>\n",
              "    <tr>\n",
              "      <th>245</th>\n",
              "      <td>(20319, 30685)</td>\n",
              "      <td>0.209722</td>\n",
              "      <td>negative</td>\n",
              "      <td>2</td>\n",
              "    </tr>\n",
              "    <tr>\n",
              "      <th>4493</th>\n",
              "      <td>(32924, 95231)</td>\n",
              "      <td>0.027976</td>\n",
              "      <td>negative</td>\n",
              "      <td>2</td>\n",
              "    </tr>\n",
              "    <tr>\n",
              "      <th>4583</th>\n",
              "      <td>(26670, 59665)</td>\n",
              "      <td>0.091165</td>\n",
              "      <td>negative</td>\n",
              "      <td>1</td>\n",
              "    </tr>\n",
              "    <tr>\n",
              "      <th>2242</th>\n",
              "      <td>(46270, 41224)</td>\n",
              "      <td>-0.034114</td>\n",
              "      <td>negative</td>\n",
              "      <td>5</td>\n",
              "    </tr>\n",
              "    <tr>\n",
              "      <th>3407</th>\n",
              "      <td>(12025, 95439)</td>\n",
              "      <td>0.043746</td>\n",
              "      <td>negative</td>\n",
              "      <td>3</td>\n",
              "    </tr>\n",
              "    <tr>\n",
              "      <th>...</th>\n",
              "      <td>...</td>\n",
              "      <td>...</td>\n",
              "      <td>...</td>\n",
              "      <td>...</td>\n",
              "    </tr>\n",
              "    <tr>\n",
              "      <th>877</th>\n",
              "      <td>(48921, 64267)</td>\n",
              "      <td>-0.065769</td>\n",
              "      <td>negative</td>\n",
              "      <td>3</td>\n",
              "    </tr>\n",
              "    <tr>\n",
              "      <th>1314</th>\n",
              "      <td>(97489, 35242)</td>\n",
              "      <td>0.088573</td>\n",
              "      <td>negative</td>\n",
              "      <td>1</td>\n",
              "    </tr>\n",
              "    <tr>\n",
              "      <th>2344</th>\n",
              "      <td>(83133, 11184)</td>\n",
              "      <td>0.009395</td>\n",
              "      <td>negative</td>\n",
              "      <td>5</td>\n",
              "    </tr>\n",
              "    <tr>\n",
              "      <th>2717</th>\n",
              "      <td>(39518, 99459)</td>\n",
              "      <td>0.295015</td>\n",
              "      <td>negative</td>\n",
              "      <td>5</td>\n",
              "    </tr>\n",
              "    <tr>\n",
              "      <th>4662</th>\n",
              "      <td>(34184, 62662)</td>\n",
              "      <td>0.224170</td>\n",
              "      <td>negative</td>\n",
              "      <td>7</td>\n",
              "    </tr>\n",
              "  </tbody>\n",
              "</table>\n",
              "<p>1000 rows × 4 columns</p>\n",
              "</div>\n",
              "      <button class=\"colab-df-convert\" onclick=\"convertToInteractive('df-521968f7-6df3-4185-96c8-d9e20faa4375')\"\n",
              "              title=\"Convert this dataframe to an interactive table.\"\n",
              "              style=\"display:none;\">\n",
              "        \n",
              "  <svg xmlns=\"http://www.w3.org/2000/svg\" height=\"24px\"viewBox=\"0 0 24 24\"\n",
              "       width=\"24px\">\n",
              "    <path d=\"M0 0h24v24H0V0z\" fill=\"none\"/>\n",
              "    <path d=\"M18.56 5.44l.94 2.06.94-2.06 2.06-.94-2.06-.94-.94-2.06-.94 2.06-2.06.94zm-11 1L8.5 8.5l.94-2.06 2.06-.94-2.06-.94L8.5 2.5l-.94 2.06-2.06.94zm10 10l.94 2.06.94-2.06 2.06-.94-2.06-.94-.94-2.06-.94 2.06-2.06.94z\"/><path d=\"M17.41 7.96l-1.37-1.37c-.4-.4-.92-.59-1.43-.59-.52 0-1.04.2-1.43.59L10.3 9.45l-7.72 7.72c-.78.78-.78 2.05 0 2.83L4 21.41c.39.39.9.59 1.41.59.51 0 1.02-.2 1.41-.59l7.78-7.78 2.81-2.81c.8-.78.8-2.07 0-2.86zM5.41 20L4 18.59l7.72-7.72 1.47 1.35L5.41 20z\"/>\n",
              "  </svg>\n",
              "      </button>\n",
              "      \n",
              "  <style>\n",
              "    .colab-df-container {\n",
              "      display:flex;\n",
              "      flex-wrap:wrap;\n",
              "      gap: 12px;\n",
              "    }\n",
              "\n",
              "    .colab-df-convert {\n",
              "      background-color: #E8F0FE;\n",
              "      border: none;\n",
              "      border-radius: 50%;\n",
              "      cursor: pointer;\n",
              "      display: none;\n",
              "      fill: #1967D2;\n",
              "      height: 32px;\n",
              "      padding: 0 0 0 0;\n",
              "      width: 32px;\n",
              "    }\n",
              "\n",
              "    .colab-df-convert:hover {\n",
              "      background-color: #E2EBFA;\n",
              "      box-shadow: 0px 1px 2px rgba(60, 64, 67, 0.3), 0px 1px 3px 1px rgba(60, 64, 67, 0.15);\n",
              "      fill: #174EA6;\n",
              "    }\n",
              "\n",
              "    [theme=dark] .colab-df-convert {\n",
              "      background-color: #3B4455;\n",
              "      fill: #D2E3FC;\n",
              "    }\n",
              "\n",
              "    [theme=dark] .colab-df-convert:hover {\n",
              "      background-color: #434B5C;\n",
              "      box-shadow: 0px 1px 3px 1px rgba(0, 0, 0, 0.15);\n",
              "      filter: drop-shadow(0px 1px 2px rgba(0, 0, 0, 0.3));\n",
              "      fill: #FFFFFF;\n",
              "    }\n",
              "  </style>\n",
              "\n",
              "      <script>\n",
              "        const buttonEl =\n",
              "          document.querySelector('#df-521968f7-6df3-4185-96c8-d9e20faa4375 button.colab-df-convert');\n",
              "        buttonEl.style.display =\n",
              "          google.colab.kernel.accessAllowed ? 'block' : 'none';\n",
              "\n",
              "        async function convertToInteractive(key) {\n",
              "          const element = document.querySelector('#df-521968f7-6df3-4185-96c8-d9e20faa4375');\n",
              "          const dataTable =\n",
              "            await google.colab.kernel.invokeFunction('convertToInteractive',\n",
              "                                                     [key], {});\n",
              "          if (!dataTable) return;\n",
              "\n",
              "          const docLinkHtml = 'Like what you see? Visit the ' +\n",
              "            '<a target=\"_blank\" href=https://colab.research.google.com/notebooks/data_table.ipynb>data table notebook</a>'\n",
              "            + ' to learn more about interactive tables.';\n",
              "          element.innerHTML = '';\n",
              "          dataTable['output_type'] = 'display_data';\n",
              "          await google.colab.output.renderOutput(dataTable, element);\n",
              "          const docLink = document.createElement('div');\n",
              "          docLink.innerHTML = docLinkHtml;\n",
              "          element.appendChild(docLink);\n",
              "        }\n",
              "      </script>\n",
              "    </div>\n",
              "  </div>\n",
              "  "
            ]
          },
          "metadata": {},
          "execution_count": 151
        }
      ]
    },
    {
      "cell_type": "code",
      "source": [
        "negative_data = neg_test_data[neg_test_data['gpt_rating'] != 'Invalid input']\n",
        "negative_data = negative_data[negative_data['gpt_rating'] != 'Answer']\n",
        "negative_data = negative_data[negative_data['gpt_rating'] != 'Private']\n",
        "negative_data = negative_data[negative_data['gpt_rating'] != 'I']"
      ],
      "metadata": {
        "id": "ytAof7Sj6pWm"
      },
      "execution_count": null,
      "outputs": []
    },
    {
      "cell_type": "code",
      "source": [
        "negative_data[\"gpt_rating\"] = pd.to_numeric(negative_data[\"gpt_rating\"])\n",
        "negative_data.head()"
      ],
      "metadata": {
        "colab": {
          "base_uri": "https://localhost:8080/",
          "height": 206
        },
        "id": "QBNwbFcB6rSB",
        "outputId": "ab4f4d1b-908d-47cf-a60e-3aede492d1b2"
      },
      "execution_count": null,
      "outputs": [
        {
          "output_type": "execute_result",
          "data": {
            "text/plain": [
              "                Pair     Score     label  gpt_rating\n",
              "245   (20319, 30685)  0.209722  negative         2.0\n",
              "4493  (32924, 95231)  0.027976  negative         2.0\n",
              "4583  (26670, 59665)  0.091165  negative         1.0\n",
              "2242  (46270, 41224) -0.034114  negative         5.0\n",
              "3407  (12025, 95439)  0.043746  negative         3.0"
            ],
            "text/html": [
              "\n",
              "  <div id=\"df-52fc7b21-73d3-4828-ab95-b75749595416\">\n",
              "    <div class=\"colab-df-container\">\n",
              "      <div>\n",
              "<style scoped>\n",
              "    .dataframe tbody tr th:only-of-type {\n",
              "        vertical-align: middle;\n",
              "    }\n",
              "\n",
              "    .dataframe tbody tr th {\n",
              "        vertical-align: top;\n",
              "    }\n",
              "\n",
              "    .dataframe thead th {\n",
              "        text-align: right;\n",
              "    }\n",
              "</style>\n",
              "<table border=\"1\" class=\"dataframe\">\n",
              "  <thead>\n",
              "    <tr style=\"text-align: right;\">\n",
              "      <th></th>\n",
              "      <th>Pair</th>\n",
              "      <th>Score</th>\n",
              "      <th>label</th>\n",
              "      <th>gpt_rating</th>\n",
              "    </tr>\n",
              "  </thead>\n",
              "  <tbody>\n",
              "    <tr>\n",
              "      <th>245</th>\n",
              "      <td>(20319, 30685)</td>\n",
              "      <td>0.209722</td>\n",
              "      <td>negative</td>\n",
              "      <td>2.0</td>\n",
              "    </tr>\n",
              "    <tr>\n",
              "      <th>4493</th>\n",
              "      <td>(32924, 95231)</td>\n",
              "      <td>0.027976</td>\n",
              "      <td>negative</td>\n",
              "      <td>2.0</td>\n",
              "    </tr>\n",
              "    <tr>\n",
              "      <th>4583</th>\n",
              "      <td>(26670, 59665)</td>\n",
              "      <td>0.091165</td>\n",
              "      <td>negative</td>\n",
              "      <td>1.0</td>\n",
              "    </tr>\n",
              "    <tr>\n",
              "      <th>2242</th>\n",
              "      <td>(46270, 41224)</td>\n",
              "      <td>-0.034114</td>\n",
              "      <td>negative</td>\n",
              "      <td>5.0</td>\n",
              "    </tr>\n",
              "    <tr>\n",
              "      <th>3407</th>\n",
              "      <td>(12025, 95439)</td>\n",
              "      <td>0.043746</td>\n",
              "      <td>negative</td>\n",
              "      <td>3.0</td>\n",
              "    </tr>\n",
              "  </tbody>\n",
              "</table>\n",
              "</div>\n",
              "      <button class=\"colab-df-convert\" onclick=\"convertToInteractive('df-52fc7b21-73d3-4828-ab95-b75749595416')\"\n",
              "              title=\"Convert this dataframe to an interactive table.\"\n",
              "              style=\"display:none;\">\n",
              "        \n",
              "  <svg xmlns=\"http://www.w3.org/2000/svg\" height=\"24px\"viewBox=\"0 0 24 24\"\n",
              "       width=\"24px\">\n",
              "    <path d=\"M0 0h24v24H0V0z\" fill=\"none\"/>\n",
              "    <path d=\"M18.56 5.44l.94 2.06.94-2.06 2.06-.94-2.06-.94-.94-2.06-.94 2.06-2.06.94zm-11 1L8.5 8.5l.94-2.06 2.06-.94-2.06-.94L8.5 2.5l-.94 2.06-2.06.94zm10 10l.94 2.06.94-2.06 2.06-.94-2.06-.94-.94-2.06-.94 2.06-2.06.94z\"/><path d=\"M17.41 7.96l-1.37-1.37c-.4-.4-.92-.59-1.43-.59-.52 0-1.04.2-1.43.59L10.3 9.45l-7.72 7.72c-.78.78-.78 2.05 0 2.83L4 21.41c.39.39.9.59 1.41.59.51 0 1.02-.2 1.41-.59l7.78-7.78 2.81-2.81c.8-.78.8-2.07 0-2.86zM5.41 20L4 18.59l7.72-7.72 1.47 1.35L5.41 20z\"/>\n",
              "  </svg>\n",
              "      </button>\n",
              "      \n",
              "  <style>\n",
              "    .colab-df-container {\n",
              "      display:flex;\n",
              "      flex-wrap:wrap;\n",
              "      gap: 12px;\n",
              "    }\n",
              "\n",
              "    .colab-df-convert {\n",
              "      background-color: #E8F0FE;\n",
              "      border: none;\n",
              "      border-radius: 50%;\n",
              "      cursor: pointer;\n",
              "      display: none;\n",
              "      fill: #1967D2;\n",
              "      height: 32px;\n",
              "      padding: 0 0 0 0;\n",
              "      width: 32px;\n",
              "    }\n",
              "\n",
              "    .colab-df-convert:hover {\n",
              "      background-color: #E2EBFA;\n",
              "      box-shadow: 0px 1px 2px rgba(60, 64, 67, 0.3), 0px 1px 3px 1px rgba(60, 64, 67, 0.15);\n",
              "      fill: #174EA6;\n",
              "    }\n",
              "\n",
              "    [theme=dark] .colab-df-convert {\n",
              "      background-color: #3B4455;\n",
              "      fill: #D2E3FC;\n",
              "    }\n",
              "\n",
              "    [theme=dark] .colab-df-convert:hover {\n",
              "      background-color: #434B5C;\n",
              "      box-shadow: 0px 1px 3px 1px rgba(0, 0, 0, 0.15);\n",
              "      filter: drop-shadow(0px 1px 2px rgba(0, 0, 0, 0.3));\n",
              "      fill: #FFFFFF;\n",
              "    }\n",
              "  </style>\n",
              "\n",
              "      <script>\n",
              "        const buttonEl =\n",
              "          document.querySelector('#df-52fc7b21-73d3-4828-ab95-b75749595416 button.colab-df-convert');\n",
              "        buttonEl.style.display =\n",
              "          google.colab.kernel.accessAllowed ? 'block' : 'none';\n",
              "\n",
              "        async function convertToInteractive(key) {\n",
              "          const element = document.querySelector('#df-52fc7b21-73d3-4828-ab95-b75749595416');\n",
              "          const dataTable =\n",
              "            await google.colab.kernel.invokeFunction('convertToInteractive',\n",
              "                                                     [key], {});\n",
              "          if (!dataTable) return;\n",
              "\n",
              "          const docLinkHtml = 'Like what you see? Visit the ' +\n",
              "            '<a target=\"_blank\" href=https://colab.research.google.com/notebooks/data_table.ipynb>data table notebook</a>'\n",
              "            + ' to learn more about interactive tables.';\n",
              "          element.innerHTML = '';\n",
              "          dataTable['output_type'] = 'display_data';\n",
              "          await google.colab.output.renderOutput(dataTable, element);\n",
              "          const docLink = document.createElement('div');\n",
              "          docLink.innerHTML = docLinkHtml;\n",
              "          element.appendChild(docLink);\n",
              "        }\n",
              "      </script>\n",
              "    </div>\n",
              "  </div>\n",
              "  "
            ]
          },
          "metadata": {},
          "execution_count": 157
        }
      ]
    },
    {
      "cell_type": "code",
      "source": [
        "negative_data[\"gpt_rating\"].mean()"
      ],
      "metadata": {
        "colab": {
          "base_uri": "https://localhost:8080/"
        },
        "id": "L-S95_Ol6uJk",
        "outputId": "2c9944fa-87db-4509-cc98-4778dbae4328"
      },
      "execution_count": null,
      "outputs": [
        {
          "output_type": "execute_result",
          "data": {
            "text/plain": [
              "4.094845360824742"
            ]
          },
          "metadata": {},
          "execution_count": 158
        }
      ]
    },
    {
      "cell_type": "code",
      "source": [
        "negative_data.to_csv('negative_rated_samples.csv')"
      ],
      "metadata": {
        "id": "IJ5BE1Sq6waB"
      },
      "execution_count": null,
      "outputs": []
    },
    {
      "cell_type": "markdown",
      "source": [
        "## Bert dataset"
      ],
      "metadata": {
        "id": "45U5uLLQYXlK"
      }
    },
    {
      "cell_type": "code",
      "source": [
        "df1 = pd.read_csv('/content/positive_rated_samples.csv')\n",
        "df2 = pd.read_csv('/content/negative_rated_samples.csv')"
      ],
      "metadata": {
        "id": "KQrmQv6sZ4uJ"
      },
      "execution_count": null,
      "outputs": []
    },
    {
      "cell_type": "code",
      "source": [
        "df_merged = pd.concat([df1, df2], axis=0, join='inner')\n",
        "df_merged = df_merged[[\"Pair\", \"gpt_rating\"]]"
      ],
      "metadata": {
        "id": "pyhePrjLaM8E"
      },
      "execution_count": null,
      "outputs": []
    },
    {
      "cell_type": "code",
      "source": [
        "from ast import literal_eval\n",
        "def s1(row):\n",
        "  a, b = literal_eval(row[\"Pair\"])\n",
        "  text = df.iloc[a][\"Title\"] + '''\n",
        "  ''' + df.iloc[a][\"Clean Body\"]\n",
        "  return text\n",
        "\n",
        "def s2(row):\n",
        "  a, b = literal_eval(row[\"Pair\"])\n",
        "  text = df.iloc[b][\"Title\"] + '''\n",
        "  ''' + df.iloc[b][\"Clean Body\"]\n",
        "  return text"
      ],
      "metadata": {
        "id": "k_XN6pyxe9p9"
      },
      "execution_count": null,
      "outputs": []
    },
    {
      "cell_type": "code",
      "source": [
        "df_merged['sentence1'] = df_merged.apply(lambda row : s1(row), axis = 1)\n",
        "df_merged['sentence2'] = df_merged.apply(lambda row : s2(row), axis = 1)"
      ],
      "metadata": {
        "id": "MsWD-Hgdc1pJ"
      },
      "execution_count": null,
      "outputs": []
    },
    {
      "cell_type": "code",
      "source": [
        "from sklearn.utils import shuffle\n",
        "df_merged = shuffle(df_merged)\n",
        "df_merged = df_merged.drop('Pair', axis=1)\n",
        "df_merged = df_merged.reset_index()\n",
        "df_merged = df_merged.reset_index()\n",
        "df_merged = df_merged.drop('index', axis=1)\n",
        "df_merged = df_merged.rename({'gpt_rating': 'label', 'level_0': 'idx'}, axis=1) "
      ],
      "metadata": {
        "id": "QPd1zce5kbXt"
      },
      "execution_count": null,
      "outputs": []
    },
    {
      "cell_type": "code",
      "source": [
        "df_merged"
      ],
      "metadata": {
        "colab": {
          "base_uri": "https://localhost:8080/",
          "height": 424
        },
        "id": "UTOUwvy5kwFx",
        "outputId": "ed6f2e92-7698-46b6-b7e3-2886a4c878d6"
      },
      "execution_count": null,
      "outputs": [
        {
          "output_type": "execute_result",
          "data": {
            "text/plain": [
              "       idx  label                                          sentence1  \\\n",
              "0        0    3.0  bootstrap styling rounded corners\\n  i do not ...   \n",
              "1        1    7.0  headless chrome is not redirecting\\n  we are u...   \n",
              "2        2    3.0  linux syscalls and errno\\n  context: i am tryi...   \n",
              "3        3    7.0  how to save user input with js and show info w...   \n",
              "4        4    2.0  function with a custom return type and the \"fa...   \n",
              "...    ...    ...                                                ...   \n",
              "1936  1936    5.0  setting schema for all queries of a connection...   \n",
              "1937  1937    3.0  'dict' object has no attribute 'append' json\\n...   \n",
              "1938  1938    3.0  dagger 2 examples\\n  dagger 2 is around the co...   \n",
              "1939  1939    5.0  can i render a form from another website\\n  i ...   \n",
              "1940  1940    1.0  how do i check for c++20 support? what is the ...   \n",
              "\n",
              "                                              sentence2  \n",
              "0     how to create a triangle in css3 using border-...  \n",
              "1     chromedriver opens sites only with valid ssl c...  \n",
              "2     virtual function table of multiple inheritance...  \n",
              "3     how can i start a windows app background task ...  \n",
              "4     is inline assembly language slower than native...  \n",
              "...                                                 ...  \n",
              "1936  change postgres search_path with ecto\\n  i wou...  \n",
              "1937  create input type=\"button\" with two lines of t...  \n",
              "1938  changing frequency using fft and ifft not usin...  \n",
              "1939  how to send password securely over http?\\n  if...  \n",
              "1940  how to find out when subprocess has terminated...  \n",
              "\n",
              "[1941 rows x 4 columns]"
            ],
            "text/html": [
              "\n",
              "  <div id=\"df-88c6eee9-0065-43f8-bf05-6f2f4c95fcad\">\n",
              "    <div class=\"colab-df-container\">\n",
              "      <div>\n",
              "<style scoped>\n",
              "    .dataframe tbody tr th:only-of-type {\n",
              "        vertical-align: middle;\n",
              "    }\n",
              "\n",
              "    .dataframe tbody tr th {\n",
              "        vertical-align: top;\n",
              "    }\n",
              "\n",
              "    .dataframe thead th {\n",
              "        text-align: right;\n",
              "    }\n",
              "</style>\n",
              "<table border=\"1\" class=\"dataframe\">\n",
              "  <thead>\n",
              "    <tr style=\"text-align: right;\">\n",
              "      <th></th>\n",
              "      <th>idx</th>\n",
              "      <th>label</th>\n",
              "      <th>sentence1</th>\n",
              "      <th>sentence2</th>\n",
              "    </tr>\n",
              "  </thead>\n",
              "  <tbody>\n",
              "    <tr>\n",
              "      <th>0</th>\n",
              "      <td>0</td>\n",
              "      <td>3.0</td>\n",
              "      <td>bootstrap styling rounded corners\\n  i do not ...</td>\n",
              "      <td>how to create a triangle in css3 using border-...</td>\n",
              "    </tr>\n",
              "    <tr>\n",
              "      <th>1</th>\n",
              "      <td>1</td>\n",
              "      <td>7.0</td>\n",
              "      <td>headless chrome is not redirecting\\n  we are u...</td>\n",
              "      <td>chromedriver opens sites only with valid ssl c...</td>\n",
              "    </tr>\n",
              "    <tr>\n",
              "      <th>2</th>\n",
              "      <td>2</td>\n",
              "      <td>3.0</td>\n",
              "      <td>linux syscalls and errno\\n  context: i am tryi...</td>\n",
              "      <td>virtual function table of multiple inheritance...</td>\n",
              "    </tr>\n",
              "    <tr>\n",
              "      <th>3</th>\n",
              "      <td>3</td>\n",
              "      <td>7.0</td>\n",
              "      <td>how to save user input with js and show info w...</td>\n",
              "      <td>how can i start a windows app background task ...</td>\n",
              "    </tr>\n",
              "    <tr>\n",
              "      <th>4</th>\n",
              "      <td>4</td>\n",
              "      <td>2.0</td>\n",
              "      <td>function with a custom return type and the \"fa...</td>\n",
              "      <td>is inline assembly language slower than native...</td>\n",
              "    </tr>\n",
              "    <tr>\n",
              "      <th>...</th>\n",
              "      <td>...</td>\n",
              "      <td>...</td>\n",
              "      <td>...</td>\n",
              "      <td>...</td>\n",
              "    </tr>\n",
              "    <tr>\n",
              "      <th>1936</th>\n",
              "      <td>1936</td>\n",
              "      <td>5.0</td>\n",
              "      <td>setting schema for all queries of a connection...</td>\n",
              "      <td>change postgres search_path with ecto\\n  i wou...</td>\n",
              "    </tr>\n",
              "    <tr>\n",
              "      <th>1937</th>\n",
              "      <td>1937</td>\n",
              "      <td>3.0</td>\n",
              "      <td>'dict' object has no attribute 'append' json\\n...</td>\n",
              "      <td>create input type=\"button\" with two lines of t...</td>\n",
              "    </tr>\n",
              "    <tr>\n",
              "      <th>1938</th>\n",
              "      <td>1938</td>\n",
              "      <td>3.0</td>\n",
              "      <td>dagger 2 examples\\n  dagger 2 is around the co...</td>\n",
              "      <td>changing frequency using fft and ifft not usin...</td>\n",
              "    </tr>\n",
              "    <tr>\n",
              "      <th>1939</th>\n",
              "      <td>1939</td>\n",
              "      <td>5.0</td>\n",
              "      <td>can i render a form from another website\\n  i ...</td>\n",
              "      <td>how to send password securely over http?\\n  if...</td>\n",
              "    </tr>\n",
              "    <tr>\n",
              "      <th>1940</th>\n",
              "      <td>1940</td>\n",
              "      <td>1.0</td>\n",
              "      <td>how do i check for c++20 support? what is the ...</td>\n",
              "      <td>how to find out when subprocess has terminated...</td>\n",
              "    </tr>\n",
              "  </tbody>\n",
              "</table>\n",
              "<p>1941 rows × 4 columns</p>\n",
              "</div>\n",
              "      <button class=\"colab-df-convert\" onclick=\"convertToInteractive('df-88c6eee9-0065-43f8-bf05-6f2f4c95fcad')\"\n",
              "              title=\"Convert this dataframe to an interactive table.\"\n",
              "              style=\"display:none;\">\n",
              "        \n",
              "  <svg xmlns=\"http://www.w3.org/2000/svg\" height=\"24px\"viewBox=\"0 0 24 24\"\n",
              "       width=\"24px\">\n",
              "    <path d=\"M0 0h24v24H0V0z\" fill=\"none\"/>\n",
              "    <path d=\"M18.56 5.44l.94 2.06.94-2.06 2.06-.94-2.06-.94-.94-2.06-.94 2.06-2.06.94zm-11 1L8.5 8.5l.94-2.06 2.06-.94-2.06-.94L8.5 2.5l-.94 2.06-2.06.94zm10 10l.94 2.06.94-2.06 2.06-.94-2.06-.94-.94-2.06-.94 2.06-2.06.94z\"/><path d=\"M17.41 7.96l-1.37-1.37c-.4-.4-.92-.59-1.43-.59-.52 0-1.04.2-1.43.59L10.3 9.45l-7.72 7.72c-.78.78-.78 2.05 0 2.83L4 21.41c.39.39.9.59 1.41.59.51 0 1.02-.2 1.41-.59l7.78-7.78 2.81-2.81c.8-.78.8-2.07 0-2.86zM5.41 20L4 18.59l7.72-7.72 1.47 1.35L5.41 20z\"/>\n",
              "  </svg>\n",
              "      </button>\n",
              "      \n",
              "  <style>\n",
              "    .colab-df-container {\n",
              "      display:flex;\n",
              "      flex-wrap:wrap;\n",
              "      gap: 12px;\n",
              "    }\n",
              "\n",
              "    .colab-df-convert {\n",
              "      background-color: #E8F0FE;\n",
              "      border: none;\n",
              "      border-radius: 50%;\n",
              "      cursor: pointer;\n",
              "      display: none;\n",
              "      fill: #1967D2;\n",
              "      height: 32px;\n",
              "      padding: 0 0 0 0;\n",
              "      width: 32px;\n",
              "    }\n",
              "\n",
              "    .colab-df-convert:hover {\n",
              "      background-color: #E2EBFA;\n",
              "      box-shadow: 0px 1px 2px rgba(60, 64, 67, 0.3), 0px 1px 3px 1px rgba(60, 64, 67, 0.15);\n",
              "      fill: #174EA6;\n",
              "    }\n",
              "\n",
              "    [theme=dark] .colab-df-convert {\n",
              "      background-color: #3B4455;\n",
              "      fill: #D2E3FC;\n",
              "    }\n",
              "\n",
              "    [theme=dark] .colab-df-convert:hover {\n",
              "      background-color: #434B5C;\n",
              "      box-shadow: 0px 1px 3px 1px rgba(0, 0, 0, 0.15);\n",
              "      filter: drop-shadow(0px 1px 2px rgba(0, 0, 0, 0.3));\n",
              "      fill: #FFFFFF;\n",
              "    }\n",
              "  </style>\n",
              "\n",
              "      <script>\n",
              "        const buttonEl =\n",
              "          document.querySelector('#df-88c6eee9-0065-43f8-bf05-6f2f4c95fcad button.colab-df-convert');\n",
              "        buttonEl.style.display =\n",
              "          google.colab.kernel.accessAllowed ? 'block' : 'none';\n",
              "\n",
              "        async function convertToInteractive(key) {\n",
              "          const element = document.querySelector('#df-88c6eee9-0065-43f8-bf05-6f2f4c95fcad');\n",
              "          const dataTable =\n",
              "            await google.colab.kernel.invokeFunction('convertToInteractive',\n",
              "                                                     [key], {});\n",
              "          if (!dataTable) return;\n",
              "\n",
              "          const docLinkHtml = 'Like what you see? Visit the ' +\n",
              "            '<a target=\"_blank\" href=https://colab.research.google.com/notebooks/data_table.ipynb>data table notebook</a>'\n",
              "            + ' to learn more about interactive tables.';\n",
              "          element.innerHTML = '';\n",
              "          dataTable['output_type'] = 'display_data';\n",
              "          await google.colab.output.renderOutput(dataTable, element);\n",
              "          const docLink = document.createElement('div');\n",
              "          docLink.innerHTML = docLinkHtml;\n",
              "          element.appendChild(docLink);\n",
              "        }\n",
              "      </script>\n",
              "    </div>\n",
              "  </div>\n",
              "  "
            ]
          },
          "metadata": {},
          "execution_count": 134
        }
      ]
    },
    {
      "cell_type": "code",
      "source": [
        "df_merged.to_csv('bert_data.csv')"
      ],
      "metadata": {
        "id": "VS651spHoL9M"
      },
      "execution_count": null,
      "outputs": []
    }
  ],
  "metadata": {
    "colab": {
      "provenance": [],
      "toc_visible": true
    },
    "kernelspec": {
      "display_name": "Python 3",
      "name": "python3"
    },
    "language_info": {
      "name": "python"
    }
  },
  "nbformat": 4,
  "nbformat_minor": 0
}